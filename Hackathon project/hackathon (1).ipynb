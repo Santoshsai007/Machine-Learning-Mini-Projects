{
  "nbformat": 4,
  "nbformat_minor": 0,
  "metadata": {
    "colab": {
      "name": "hackathon.ipynb",
      "provenance": [],
      "collapsed_sections": []
    },
    "kernelspec": {
      "name": "python3",
      "display_name": "Python 3"
    },
    "language_info": {
      "name": "python"
    }
  },
  "cells": [
    {
      "cell_type": "code",
      "metadata": {
        "id": "56asyDRNYSh5"
      },
      "source": [
        "from google.colab import drive"
      ],
      "execution_count": 2,
      "outputs": []
    },
    {
      "cell_type": "code",
      "metadata": {
        "id": "esJFU6dIY3vU"
      },
      "source": [
        "import pandas as pd\n",
        "import numpy as np\n",
        "import matplotlib.pyplot as plt\n",
        "import seaborn as sns\n",
        "%matplotlib inline"
      ],
      "execution_count": 3,
      "outputs": []
    },
    {
      "cell_type": "code",
      "metadata": {
        "id": "wa5qB4vdlaY2"
      },
      "source": [
        "df1=pd.read_csv(\"/content/drive/MyDrive/train_final.csv\")"
      ],
      "execution_count": 4,
      "outputs": []
    },
    {
      "cell_type": "code",
      "metadata": {
        "colab": {
          "base_uri": "https://localhost:8080/",
          "height": 204
        },
        "id": "e9ArrghWYZAw",
        "outputId": "a0d6a8f8-5e5c-408f-8ffa-24086f8de229"
      },
      "source": [
        "df1.head()"
      ],
      "execution_count": 5,
      "outputs": [
        {
          "output_type": "execute_result",
          "data": {
            "text/html": [
              "<div>\n",
              "<style scoped>\n",
              "    .dataframe tbody tr th:only-of-type {\n",
              "        vertical-align: middle;\n",
              "    }\n",
              "\n",
              "    .dataframe tbody tr th {\n",
              "        vertical-align: top;\n",
              "    }\n",
              "\n",
              "    .dataframe thead th {\n",
              "        text-align: right;\n",
              "    }\n",
              "</style>\n",
              "<table border=\"1\" class=\"dataframe\">\n",
              "  <thead>\n",
              "    <tr style=\"text-align: right;\">\n",
              "      <th></th>\n",
              "      <th>ID</th>\n",
              "      <th>geoCluster</th>\n",
              "      <th>SKU</th>\n",
              "      <th>date</th>\n",
              "      <th>price</th>\n",
              "      <th>sales</th>\n",
              "    </tr>\n",
              "  </thead>\n",
              "  <tbody>\n",
              "    <tr>\n",
              "      <th>0</th>\n",
              "      <td>RR27956447</td>\n",
              "      <td>21</td>\n",
              "      <td>32485</td>\n",
              "      <td>2021-07-08</td>\n",
              "      <td>39.69</td>\n",
              "      <td>0.9</td>\n",
              "    </tr>\n",
              "    <tr>\n",
              "      <th>1</th>\n",
              "      <td>RR27956448</td>\n",
              "      <td>21</td>\n",
              "      <td>32485</td>\n",
              "      <td>2021-07-09</td>\n",
              "      <td>NaN</td>\n",
              "      <td>NaN</td>\n",
              "    </tr>\n",
              "    <tr>\n",
              "      <th>2</th>\n",
              "      <td>RR27956449</td>\n",
              "      <td>21</td>\n",
              "      <td>32485</td>\n",
              "      <td>2021-07-10</td>\n",
              "      <td>NaN</td>\n",
              "      <td>NaN</td>\n",
              "    </tr>\n",
              "    <tr>\n",
              "      <th>3</th>\n",
              "      <td>RR27956450</td>\n",
              "      <td>21</td>\n",
              "      <td>32485</td>\n",
              "      <td>2021-07-11</td>\n",
              "      <td>NaN</td>\n",
              "      <td>NaN</td>\n",
              "    </tr>\n",
              "    <tr>\n",
              "      <th>4</th>\n",
              "      <td>RR27956451</td>\n",
              "      <td>21</td>\n",
              "      <td>32485</td>\n",
              "      <td>2021-07-12</td>\n",
              "      <td>NaN</td>\n",
              "      <td>NaN</td>\n",
              "    </tr>\n",
              "  </tbody>\n",
              "</table>\n",
              "</div>"
            ],
            "text/plain": [
              "           ID  geoCluster    SKU        date  price  sales\n",
              "0  RR27956447          21  32485  2021-07-08  39.69    0.9\n",
              "1  RR27956448          21  32485  2021-07-09    NaN    NaN\n",
              "2  RR27956449          21  32485  2021-07-10    NaN    NaN\n",
              "3  RR27956450          21  32485  2021-07-11    NaN    NaN\n",
              "4  RR27956451          21  32485  2021-07-12    NaN    NaN"
            ]
          },
          "metadata": {},
          "execution_count": 5
        }
      ]
    },
    {
      "cell_type": "code",
      "metadata": {
        "colab": {
          "base_uri": "https://localhost:8080/"
        },
        "id": "lF5khuHjXeGF",
        "outputId": "b27e95c6-879d-4dcd-b94e-b62bbe7675fa"
      },
      "source": [
        "df1.info()"
      ],
      "execution_count": 10,
      "outputs": [
        {
          "output_type": "stream",
          "name": "stdout",
          "text": [
            "<class 'pandas.core.frame.DataFrame'>\n",
            "RangeIndex: 27956445 entries, 0 to 27956444\n",
            "Data columns (total 6 columns):\n",
            " #   Column      Dtype  \n",
            "---  ------      -----  \n",
            " 0   ID          object \n",
            " 1   geoCluster  int64  \n",
            " 2   SKU         int64  \n",
            " 3   date        object \n",
            " 4   price       float64\n",
            " 5   sales       float64\n",
            "dtypes: float64(2), int64(2), object(2)\n",
            "memory usage: 1.2+ GB\n"
          ]
        }
      ]
    },
    {
      "cell_type": "code",
      "metadata": {
        "id": "G-i8Uo-JZbye"
      },
      "source": [
        "df2=pd.read_csv(\"/content/drive/MyDrive/sku_final.csv\")"
      ],
      "execution_count": 6,
      "outputs": []
    },
    {
      "cell_type": "code",
      "metadata": {
        "colab": {
          "base_uri": "https://localhost:8080/",
          "height": 309
        },
        "id": "YQzmvEZ6XbSB",
        "outputId": "2d3e201a-b14f-485c-81b9-8db6bb21ddfd"
      },
      "source": [
        "df2.head()"
      ],
      "execution_count": 9,
      "outputs": [
        {
          "output_type": "execute_result",
          "data": {
            "text/html": [
              "<div>\n",
              "<style scoped>\n",
              "    .dataframe tbody tr th:only-of-type {\n",
              "        vertical-align: middle;\n",
              "    }\n",
              "\n",
              "    .dataframe tbody tr th {\n",
              "        vertical-align: top;\n",
              "    }\n",
              "\n",
              "    .dataframe thead th {\n",
              "        text-align: right;\n",
              "    }\n",
              "</style>\n",
              "<table border=\"1\" class=\"dataframe\">\n",
              "  <thead>\n",
              "    <tr style=\"text-align: right;\">\n",
              "      <th></th>\n",
              "      <th>SKU</th>\n",
              "      <th>productCategoryId</th>\n",
              "      <th>productCategory_caption_UKR</th>\n",
              "      <th>productCategory_caption_RU</th>\n",
              "      <th>productCategory_caption_ENG</th>\n",
              "      <th>productTypeId</th>\n",
              "      <th>productType_caption_UKR</th>\n",
              "      <th>productType_caption_RU</th>\n",
              "      <th>productType_caption_ENG</th>\n",
              "      <th>brandId</th>\n",
              "      <th>lagerUnitQuantity</th>\n",
              "      <th>lagerUnitTypeId</th>\n",
              "      <th>lagerUnitType_caption</th>\n",
              "      <th>trademark</th>\n",
              "      <th>countryOfOrigin</th>\n",
              "      <th>countryOfOrigin_caption</th>\n",
              "      <th>commodity_group</th>\n",
              "      <th>commodity_group_caption_UKR</th>\n",
              "      <th>commodity_group_caption_RU</th>\n",
              "      <th>commodity_group_caption_ENG</th>\n",
              "    </tr>\n",
              "  </thead>\n",
              "  <tbody>\n",
              "    <tr>\n",
              "      <th>0</th>\n",
              "      <td>17</td>\n",
              "      <td>5416.0</td>\n",
              "      <td>Хурма</td>\n",
              "      <td>Хурма</td>\n",
              "      <td>Persimmon</td>\n",
              "      <td>4770.0</td>\n",
              "      <td>Тропічні фрукти - Хурма - Звичайна</td>\n",
              "      <td>Тропические фрукты - Хурма - Обычная</td>\n",
              "      <td>Tropical fruit — Persimmon — Plain</td>\n",
              "      <td>NaN</td>\n",
              "      <td>1.0</td>\n",
              "      <td>1</td>\n",
              "      <td>г</td>\n",
              "      <td>NaN</td>\n",
              "      <td>NaN</td>\n",
              "      <td>NaN</td>\n",
              "      <td>5551018</td>\n",
              "      <td>Фрукти тропічні</td>\n",
              "      <td>Фрукты тропические</td>\n",
              "      <td>Tropical fruits</td>\n",
              "    </tr>\n",
              "    <tr>\n",
              "      <th>1</th>\n",
              "      <td>18</td>\n",
              "      <td>5413.0</td>\n",
              "      <td>Фейхоа</td>\n",
              "      <td>Фейхоа</td>\n",
              "      <td>Feijoa</td>\n",
              "      <td>4772.0</td>\n",
              "      <td>Тропічні фрукти - Екзотичні</td>\n",
              "      <td>Тропические фрукты - Экзотические</td>\n",
              "      <td>Tropical fruit — Exotic</td>\n",
              "      <td>NaN</td>\n",
              "      <td>1.0</td>\n",
              "      <td>1</td>\n",
              "      <td>г</td>\n",
              "      <td>NaN</td>\n",
              "      <td>NaN</td>\n",
              "      <td>NaN</td>\n",
              "      <td>5551018</td>\n",
              "      <td>Фрукти тропічні</td>\n",
              "      <td>Фрукты тропические</td>\n",
              "      <td>Tropical fruits</td>\n",
              "    </tr>\n",
              "    <tr>\n",
              "      <th>2</th>\n",
              "      <td>24</td>\n",
              "      <td>5425.0</td>\n",
              "      <td>Гранат</td>\n",
              "      <td>Гранат</td>\n",
              "      <td>Pomegranate</td>\n",
              "      <td>4760.0</td>\n",
              "      <td>Тропічні фрукти - Гранат - Звичайний</td>\n",
              "      <td>Тропические фрукты - Гранат - Обычный</td>\n",
              "      <td>Tropical fruit — Pomegranate— Plain</td>\n",
              "      <td>NaN</td>\n",
              "      <td>1.0</td>\n",
              "      <td>1</td>\n",
              "      <td>г</td>\n",
              "      <td>NaN</td>\n",
              "      <td>NaN</td>\n",
              "      <td>NaN</td>\n",
              "      <td>5551018</td>\n",
              "      <td>Фрукти тропічні</td>\n",
              "      <td>Фрукты тропические</td>\n",
              "      <td>Tropical fruits</td>\n",
              "    </tr>\n",
              "    <tr>\n",
              "      <th>3</th>\n",
              "      <td>25</td>\n",
              "      <td>5431.0</td>\n",
              "      <td>Апельсин</td>\n",
              "      <td>Апельсин</td>\n",
              "      <td>Orange</td>\n",
              "      <td>4773.0</td>\n",
              "      <td>Цитрусові фрукти - Апельсин - Звичайний</td>\n",
              "      <td>Цитрусовые фрукты - Апельсин - Обычный</td>\n",
              "      <td>Citrus fruit — Orange — Plain</td>\n",
              "      <td>NaN</td>\n",
              "      <td>1.0</td>\n",
              "      <td>2</td>\n",
              "      <td>кг</td>\n",
              "      <td>NaN</td>\n",
              "      <td>8.0</td>\n",
              "      <td>Іспанія</td>\n",
              "      <td>5551018</td>\n",
              "      <td>Фрукти тропічні</td>\n",
              "      <td>Фрукты тропические</td>\n",
              "      <td>Tropical fruits</td>\n",
              "    </tr>\n",
              "    <tr>\n",
              "      <th>4</th>\n",
              "      <td>208</td>\n",
              "      <td>5835.0</td>\n",
              "      <td>Вода України газована</td>\n",
              "      <td>Вода Украины газированная</td>\n",
              "      <td>Water, Ukraine, sparkling</td>\n",
              "      <td>3457.0</td>\n",
              "      <td>Лікувально-столова вода - Україна - ПЕТ - від ...</td>\n",
              "      <td>Лечебно-столовая вода - Украина - ПЭТ - от 1л ...</td>\n",
              "      <td>Therapeutic-table water — Ukraine — PET — from...</td>\n",
              "      <td>1241.0</td>\n",
              "      <td>1.5</td>\n",
              "      <td>3</td>\n",
              "      <td>л</td>\n",
              "      <td>3670.0</td>\n",
              "      <td>1.0</td>\n",
              "      <td>Україна</td>\n",
              "      <td>5550022</td>\n",
              "      <td>Вода Мфнеральна</td>\n",
              "      <td>Вода Минеральная</td>\n",
              "      <td>Mineral water</td>\n",
              "    </tr>\n",
              "  </tbody>\n",
              "</table>\n",
              "</div>"
            ],
            "text/plain": [
              "   SKU  ...  commodity_group_caption_ENG\n",
              "0   17  ...              Tropical fruits\n",
              "1   18  ...              Tropical fruits\n",
              "2   24  ...              Tropical fruits\n",
              "3   25  ...              Tropical fruits\n",
              "4  208  ...                Mineral water\n",
              "\n",
              "[5 rows x 20 columns]"
            ]
          },
          "metadata": {},
          "execution_count": 9
        }
      ]
    },
    {
      "cell_type": "code",
      "metadata": {
        "colab": {
          "base_uri": "https://localhost:8080/"
        },
        "id": "xbyjArhdXryB",
        "outputId": "76e8c50a-5797-47f0-e895-87d848cc8988"
      },
      "source": [
        "df2.info()"
      ],
      "execution_count": 11,
      "outputs": [
        {
          "output_type": "stream",
          "name": "stdout",
          "text": [
            "<class 'pandas.core.frame.DataFrame'>\n",
            "RangeIndex: 1961 entries, 0 to 1960\n",
            "Data columns (total 20 columns):\n",
            " #   Column                       Non-Null Count  Dtype  \n",
            "---  ------                       --------------  -----  \n",
            " 0   SKU                          1961 non-null   int64  \n",
            " 1   productCategoryId            1961 non-null   float64\n",
            " 2   productCategory_caption_UKR  1807 non-null   object \n",
            " 3   productCategory_caption_RU   1961 non-null   object \n",
            " 4   productCategory_caption_ENG  1807 non-null   object \n",
            " 5   productTypeId                1744 non-null   float64\n",
            " 6   productType_caption_UKR      1563 non-null   object \n",
            " 7   productType_caption_RU       1744 non-null   object \n",
            " 8   productType_caption_ENG      1563 non-null   object \n",
            " 9   brandId                      1116 non-null   float64\n",
            " 10  lagerUnitQuantity            1961 non-null   float64\n",
            " 11  lagerUnitTypeId              1961 non-null   int64  \n",
            " 12  lagerUnitType_caption        1961 non-null   object \n",
            " 13  trademark                    1873 non-null   float64\n",
            " 14  countryOfOrigin              710 non-null    float64\n",
            " 15  countryOfOrigin_caption      710 non-null    object \n",
            " 16  commodity_group              1961 non-null   int64  \n",
            " 17  commodity_group_caption_UKR  1961 non-null   object \n",
            " 18  commodity_group_caption_RU   1961 non-null   object \n",
            " 19  commodity_group_caption_ENG  1961 non-null   object \n",
            "dtypes: float64(6), int64(3), object(11)\n",
            "memory usage: 306.5+ KB\n"
          ]
        }
      ]
    },
    {
      "cell_type": "code",
      "metadata": {
        "id": "6LRugfvgmI1O"
      },
      "source": [
        "df3=pd.read_csv(\"/content/drive/MyDrive/geo_params.csv\")"
      ],
      "execution_count": 12,
      "outputs": []
    },
    {
      "cell_type": "code",
      "metadata": {
        "colab": {
          "base_uri": "https://localhost:8080/",
          "height": 204
        },
        "id": "0yCuPj6WXv5I",
        "outputId": "31f06b40-4d7e-4a93-e7c6-bb8080fca985"
      },
      "source": [
        "df3.head()"
      ],
      "execution_count": 13,
      "outputs": [
        {
          "output_type": "execute_result",
          "data": {
            "text/html": [
              "<div>\n",
              "<style scoped>\n",
              "    .dataframe tbody tr th:only-of-type {\n",
              "        vertical-align: middle;\n",
              "    }\n",
              "\n",
              "    .dataframe tbody tr th {\n",
              "        vertical-align: top;\n",
              "    }\n",
              "\n",
              "    .dataframe thead th {\n",
              "        text-align: right;\n",
              "    }\n",
              "</style>\n",
              "<table border=\"1\" class=\"dataframe\">\n",
              "  <thead>\n",
              "    <tr style=\"text-align: right;\">\n",
              "      <th></th>\n",
              "      <th>geoCluster</th>\n",
              "      <th>cityId</th>\n",
              "    </tr>\n",
              "  </thead>\n",
              "  <tbody>\n",
              "    <tr>\n",
              "      <th>0</th>\n",
              "      <td>21</td>\n",
              "      <td>1</td>\n",
              "    </tr>\n",
              "    <tr>\n",
              "      <th>1</th>\n",
              "      <td>47</td>\n",
              "      <td>1</td>\n",
              "    </tr>\n",
              "    <tr>\n",
              "      <th>2</th>\n",
              "      <td>48</td>\n",
              "      <td>1</td>\n",
              "    </tr>\n",
              "    <tr>\n",
              "      <th>3</th>\n",
              "      <td>92</td>\n",
              "      <td>1</td>\n",
              "    </tr>\n",
              "    <tr>\n",
              "      <th>4</th>\n",
              "      <td>112</td>\n",
              "      <td>1</td>\n",
              "    </tr>\n",
              "  </tbody>\n",
              "</table>\n",
              "</div>"
            ],
            "text/plain": [
              "   geoCluster  cityId\n",
              "0          21       1\n",
              "1          47       1\n",
              "2          48       1\n",
              "3          92       1\n",
              "4         112       1"
            ]
          },
          "metadata": {},
          "execution_count": 13
        }
      ]
    },
    {
      "cell_type": "code",
      "metadata": {
        "colab": {
          "base_uri": "https://localhost:8080/"
        },
        "id": "p7bPYIrjXyoA",
        "outputId": "e6594957-c9c9-4047-b2c6-d1f756129bbf"
      },
      "source": [
        "df3.info()"
      ],
      "execution_count": 14,
      "outputs": [
        {
          "output_type": "stream",
          "name": "stdout",
          "text": [
            "<class 'pandas.core.frame.DataFrame'>\n",
            "RangeIndex: 515 entries, 0 to 514\n",
            "Data columns (total 2 columns):\n",
            " #   Column      Non-Null Count  Dtype\n",
            "---  ------      --------------  -----\n",
            " 0   geoCluster  515 non-null    int64\n",
            " 1   cityId      515 non-null    int64\n",
            "dtypes: int64(2)\n",
            "memory usage: 8.2 KB\n"
          ]
        }
      ]
    },
    {
      "cell_type": "code",
      "metadata": {
        "id": "FXLl1X8bnOCi"
      },
      "source": [
        "test=pd.read_csv(\"/content/drive/MyDrive/test_data.csv\")"
      ],
      "execution_count": 15,
      "outputs": []
    },
    {
      "cell_type": "code",
      "metadata": {
        "colab": {
          "base_uri": "https://localhost:8080/",
          "height": 204
        },
        "id": "Pp24Qz4YYT4a",
        "outputId": "c820a9e3-e1fb-4f83-8778-9a097ca60fe6"
      },
      "source": [
        "test.head()"
      ],
      "execution_count": 16,
      "outputs": [
        {
          "output_type": "execute_result",
          "data": {
            "text/html": [
              "<div>\n",
              "<style scoped>\n",
              "    .dataframe tbody tr th:only-of-type {\n",
              "        vertical-align: middle;\n",
              "    }\n",
              "\n",
              "    .dataframe tbody tr th {\n",
              "        vertical-align: top;\n",
              "    }\n",
              "\n",
              "    .dataframe thead th {\n",
              "        text-align: right;\n",
              "    }\n",
              "</style>\n",
              "<table border=\"1\" class=\"dataframe\">\n",
              "  <thead>\n",
              "    <tr style=\"text-align: right;\">\n",
              "      <th></th>\n",
              "      <th>ID</th>\n",
              "      <th>geoCluster</th>\n",
              "      <th>SKU</th>\n",
              "      <th>date</th>\n",
              "      <th>price</th>\n",
              "    </tr>\n",
              "  </thead>\n",
              "  <tbody>\n",
              "    <tr>\n",
              "      <th>0</th>\n",
              "      <td>RR1666030</td>\n",
              "      <td>21</td>\n",
              "      <td>32485</td>\n",
              "      <td>2021-07-20</td>\n",
              "      <td>66.69</td>\n",
              "    </tr>\n",
              "    <tr>\n",
              "      <th>1</th>\n",
              "      <td>RR1666031</td>\n",
              "      <td>21</td>\n",
              "      <td>32485</td>\n",
              "      <td>2021-07-21</td>\n",
              "      <td>66.69</td>\n",
              "    </tr>\n",
              "    <tr>\n",
              "      <th>2</th>\n",
              "      <td>RR1666032</td>\n",
              "      <td>21</td>\n",
              "      <td>32485</td>\n",
              "      <td>2021-07-22</td>\n",
              "      <td>66.69</td>\n",
              "    </tr>\n",
              "    <tr>\n",
              "      <th>3</th>\n",
              "      <td>RR1666033</td>\n",
              "      <td>21</td>\n",
              "      <td>32485</td>\n",
              "      <td>2021-07-23</td>\n",
              "      <td>66.69</td>\n",
              "    </tr>\n",
              "    <tr>\n",
              "      <th>4</th>\n",
              "      <td>RR1666034</td>\n",
              "      <td>21</td>\n",
              "      <td>32485</td>\n",
              "      <td>2021-07-24</td>\n",
              "      <td>66.69</td>\n",
              "    </tr>\n",
              "  </tbody>\n",
              "</table>\n",
              "</div>"
            ],
            "text/plain": [
              "          ID  geoCluster    SKU        date  price\n",
              "0  RR1666030          21  32485  2021-07-20  66.69\n",
              "1  RR1666031          21  32485  2021-07-21  66.69\n",
              "2  RR1666032          21  32485  2021-07-22  66.69\n",
              "3  RR1666033          21  32485  2021-07-23  66.69\n",
              "4  RR1666034          21  32485  2021-07-24  66.69"
            ]
          },
          "metadata": {},
          "execution_count": 16
        }
      ]
    },
    {
      "cell_type": "code",
      "metadata": {
        "colab": {
          "base_uri": "https://localhost:8080/",
          "height": 204
        },
        "id": "nd9AwdvVnTcz",
        "outputId": "48e738ba-60a4-494b-b57e-6d2fbb43e954"
      },
      "source": [
        "df1.head()"
      ],
      "execution_count": 17,
      "outputs": [
        {
          "output_type": "execute_result",
          "data": {
            "text/html": [
              "<div>\n",
              "<style scoped>\n",
              "    .dataframe tbody tr th:only-of-type {\n",
              "        vertical-align: middle;\n",
              "    }\n",
              "\n",
              "    .dataframe tbody tr th {\n",
              "        vertical-align: top;\n",
              "    }\n",
              "\n",
              "    .dataframe thead th {\n",
              "        text-align: right;\n",
              "    }\n",
              "</style>\n",
              "<table border=\"1\" class=\"dataframe\">\n",
              "  <thead>\n",
              "    <tr style=\"text-align: right;\">\n",
              "      <th></th>\n",
              "      <th>ID</th>\n",
              "      <th>geoCluster</th>\n",
              "      <th>SKU</th>\n",
              "      <th>date</th>\n",
              "      <th>price</th>\n",
              "      <th>sales</th>\n",
              "    </tr>\n",
              "  </thead>\n",
              "  <tbody>\n",
              "    <tr>\n",
              "      <th>0</th>\n",
              "      <td>RR27956447</td>\n",
              "      <td>21</td>\n",
              "      <td>32485</td>\n",
              "      <td>2021-07-08</td>\n",
              "      <td>39.69</td>\n",
              "      <td>0.9</td>\n",
              "    </tr>\n",
              "    <tr>\n",
              "      <th>1</th>\n",
              "      <td>RR27956448</td>\n",
              "      <td>21</td>\n",
              "      <td>32485</td>\n",
              "      <td>2021-07-09</td>\n",
              "      <td>NaN</td>\n",
              "      <td>NaN</td>\n",
              "    </tr>\n",
              "    <tr>\n",
              "      <th>2</th>\n",
              "      <td>RR27956449</td>\n",
              "      <td>21</td>\n",
              "      <td>32485</td>\n",
              "      <td>2021-07-10</td>\n",
              "      <td>NaN</td>\n",
              "      <td>NaN</td>\n",
              "    </tr>\n",
              "    <tr>\n",
              "      <th>3</th>\n",
              "      <td>RR27956450</td>\n",
              "      <td>21</td>\n",
              "      <td>32485</td>\n",
              "      <td>2021-07-11</td>\n",
              "      <td>NaN</td>\n",
              "      <td>NaN</td>\n",
              "    </tr>\n",
              "    <tr>\n",
              "      <th>4</th>\n",
              "      <td>RR27956451</td>\n",
              "      <td>21</td>\n",
              "      <td>32485</td>\n",
              "      <td>2021-07-12</td>\n",
              "      <td>NaN</td>\n",
              "      <td>NaN</td>\n",
              "    </tr>\n",
              "  </tbody>\n",
              "</table>\n",
              "</div>"
            ],
            "text/plain": [
              "           ID  geoCluster    SKU        date  price  sales\n",
              "0  RR27956447          21  32485  2021-07-08  39.69    0.9\n",
              "1  RR27956448          21  32485  2021-07-09    NaN    NaN\n",
              "2  RR27956449          21  32485  2021-07-10    NaN    NaN\n",
              "3  RR27956450          21  32485  2021-07-11    NaN    NaN\n",
              "4  RR27956451          21  32485  2021-07-12    NaN    NaN"
            ]
          },
          "metadata": {},
          "execution_count": 17
        }
      ]
    },
    {
      "cell_type": "code",
      "metadata": {
        "colab": {
          "base_uri": "https://localhost:8080/"
        },
        "id": "FiZldo4Fpia2",
        "outputId": "66e99389-9e27-4ffb-ce41-f4d9cd121e66"
      },
      "source": [
        "df2.columns"
      ],
      "execution_count": 18,
      "outputs": [
        {
          "output_type": "execute_result",
          "data": {
            "text/plain": [
              "Index(['SKU', 'productCategoryId', 'productCategory_caption_UKR',\n",
              "       'productCategory_caption_RU', 'productCategory_caption_ENG',\n",
              "       'productTypeId', 'productType_caption_UKR', 'productType_caption_RU',\n",
              "       'productType_caption_ENG', 'brandId', 'lagerUnitQuantity',\n",
              "       'lagerUnitTypeId', 'lagerUnitType_caption', 'trademark',\n",
              "       'countryOfOrigin', 'countryOfOrigin_caption', 'commodity_group',\n",
              "       'commodity_group_caption_UKR', 'commodity_group_caption_RU',\n",
              "       'commodity_group_caption_ENG'],\n",
              "      dtype='object')"
            ]
          },
          "metadata": {},
          "execution_count": 18
        }
      ]
    },
    {
      "cell_type": "code",
      "metadata": {
        "id": "uplJi71xq0JM"
      },
      "source": [
        "df22=df2[['SKU','productType_caption_ENG','brandId', 'lagerUnitQuantity',\n",
        "       'lagerUnitTypeId','countryOfOrigin', 'commodity_group']]"
      ],
      "execution_count": 19,
      "outputs": []
    },
    {
      "cell_type": "code",
      "metadata": {
        "id": "KKlocz5QYikZ"
      },
      "source": [
        "#To understand how data is distributed we are plotting pair plot"
      ],
      "execution_count": null,
      "outputs": []
    },
    {
      "cell_type": "code",
      "metadata": {
        "colab": {
          "base_uri": "https://localhost:8080/",
          "height": 1000
        },
        "id": "29H0rpe1YO8m",
        "outputId": "b9c5e3fc-52c1-4302-e45f-df0eec5b8189"
      },
      "source": [
        "sns.pairplot(df22)"
      ],
      "execution_count": 29,
      "outputs": [
        {
          "output_type": "execute_result",
          "data": {
            "text/plain": [
              "<seaborn.axisgrid.PairGrid at 0x7f363d2b0150>"
            ]
          },
          "metadata": {},
          "execution_count": 29
        },
        {
          "output_type": "display_data",
          "data": {
            "image/png": "[encoded data removed]",
            "text/plain": [
              "<Figure size 1080x1080 with 42 Axes>"
            ]
          },
          "metadata": {
            "needs_background": "light"
          }
        }
      ]
    },
    {
      "cell_type": "code",
      "metadata": {
        "colab": {
          "base_uri": "https://localhost:8080/",
          "height": 297
        },
        "id": "zanGRkikY2O9",
        "outputId": "b8ae0768-aab3-4871-8a8e-9ecaf808199a"
      },
      "source": [
        "df22.describe()"
      ],
      "execution_count": 30,
      "outputs": [
        {
          "output_type": "execute_result",
          "data": {
            "text/html": [
              "<div>\n",
              "<style scoped>\n",
              "    .dataframe tbody tr th:only-of-type {\n",
              "        vertical-align: middle;\n",
              "    }\n",
              "\n",
              "    .dataframe tbody tr th {\n",
              "        vertical-align: top;\n",
              "    }\n",
              "\n",
              "    .dataframe thead th {\n",
              "        text-align: right;\n",
              "    }\n",
              "</style>\n",
              "<table border=\"1\" class=\"dataframe\">\n",
              "  <thead>\n",
              "    <tr style=\"text-align: right;\">\n",
              "      <th></th>\n",
              "      <th>SKU</th>\n",
              "      <th>brandId</th>\n",
              "      <th>lagerUnitQuantity</th>\n",
              "      <th>lagerUnitTypeId</th>\n",
              "      <th>countryOfOrigin</th>\n",
              "      <th>commodity_group</th>\n",
              "    </tr>\n",
              "  </thead>\n",
              "  <tbody>\n",
              "    <tr>\n",
              "      <th>count</th>\n",
              "      <td>1961.000000</td>\n",
              "      <td>1116.000000</td>\n",
              "      <td>1961.000000</td>\n",
              "      <td>1961.000000</td>\n",
              "      <td>710.000000</td>\n",
              "      <td>1.961000e+03</td>\n",
              "    </tr>\n",
              "    <tr>\n",
              "      <th>mean</th>\n",
              "      <td>642041.309026</td>\n",
              "      <td>3596.056452</td>\n",
              "      <td>120.097529</td>\n",
              "      <td>1.684345</td>\n",
              "      <td>6.916901</td>\n",
              "      <td>5.550356e+06</td>\n",
              "    </tr>\n",
              "    <tr>\n",
              "      <th>std</th>\n",
              "      <td>228826.407447</td>\n",
              "      <td>2617.416119</td>\n",
              "      <td>156.384931</td>\n",
              "      <td>1.015093</td>\n",
              "      <td>13.450326</td>\n",
              "      <td>2.247288e+02</td>\n",
              "    </tr>\n",
              "    <tr>\n",
              "      <th>min</th>\n",
              "      <td>17.000000</td>\n",
              "      <td>493.000000</td>\n",
              "      <td>0.050000</td>\n",
              "      <td>1.000000</td>\n",
              "      <td>1.000000</td>\n",
              "      <td>5.550022e+06</td>\n",
              "    </tr>\n",
              "    <tr>\n",
              "      <th>25%</th>\n",
              "      <td>523646.000000</td>\n",
              "      <td>1822.000000</td>\n",
              "      <td>1.000000</td>\n",
              "      <td>1.000000</td>\n",
              "      <td>1.000000</td>\n",
              "      <td>5.550259e+06</td>\n",
              "    </tr>\n",
              "    <tr>\n",
              "      <th>50%</th>\n",
              "      <td>740170.000000</td>\n",
              "      <td>2737.000000</td>\n",
              "      <td>53.000000</td>\n",
              "      <td>1.000000</td>\n",
              "      <td>1.000000</td>\n",
              "      <td>5.550352e+06</td>\n",
              "    </tr>\n",
              "    <tr>\n",
              "      <th>75%</th>\n",
              "      <td>811199.000000</td>\n",
              "      <td>3784.000000</td>\n",
              "      <td>200.000000</td>\n",
              "      <td>2.000000</td>\n",
              "      <td>7.000000</td>\n",
              "      <td>5.550412e+06</td>\n",
              "    </tr>\n",
              "    <tr>\n",
              "      <th>max</th>\n",
              "      <td>874109.000000</td>\n",
              "      <td>8900.000000</td>\n",
              "      <td>950.000000</td>\n",
              "      <td>6.000000</td>\n",
              "      <td>135.000000</td>\n",
              "      <td>5.551018e+06</td>\n",
              "    </tr>\n",
              "  </tbody>\n",
              "</table>\n",
              "</div>"
            ],
            "text/plain": [
              "                 SKU      brandId  ...  countryOfOrigin  commodity_group\n",
              "count    1961.000000  1116.000000  ...       710.000000     1.961000e+03\n",
              "mean   642041.309026  3596.056452  ...         6.916901     5.550356e+06\n",
              "std    228826.407447  2617.416119  ...        13.450326     2.247288e+02\n",
              "min        17.000000   493.000000  ...         1.000000     5.550022e+06\n",
              "25%    523646.000000  1822.000000  ...         1.000000     5.550259e+06\n",
              "50%    740170.000000  2737.000000  ...         1.000000     5.550352e+06\n",
              "75%    811199.000000  3784.000000  ...         7.000000     5.550412e+06\n",
              "max    874109.000000  8900.000000  ...       135.000000     5.551018e+06\n",
              "\n",
              "[8 rows x 6 columns]"
            ]
          },
          "metadata": {},
          "execution_count": 30
        }
      ]
    },
    {
      "cell_type": "code",
      "metadata": {
        "colab": {
          "base_uri": "https://localhost:8080/",
          "height": 221
        },
        "id": "tMzj3lkDoHtB",
        "outputId": "ddde979f-9511-4660-d9dd-64ac510a0beb"
      },
      "source": [
        "df22.head()"
      ],
      "execution_count": 20,
      "outputs": [
        {
          "output_type": "execute_result",
          "data": {
            "text/html": [
              "<div>\n",
              "<style scoped>\n",
              "    .dataframe tbody tr th:only-of-type {\n",
              "        vertical-align: middle;\n",
              "    }\n",
              "\n",
              "    .dataframe tbody tr th {\n",
              "        vertical-align: top;\n",
              "    }\n",
              "\n",
              "    .dataframe thead th {\n",
              "        text-align: right;\n",
              "    }\n",
              "</style>\n",
              "<table border=\"1\" class=\"dataframe\">\n",
              "  <thead>\n",
              "    <tr style=\"text-align: right;\">\n",
              "      <th></th>\n",
              "      <th>SKU</th>\n",
              "      <th>productType_caption_ENG</th>\n",
              "      <th>brandId</th>\n",
              "      <th>lagerUnitQuantity</th>\n",
              "      <th>lagerUnitTypeId</th>\n",
              "      <th>countryOfOrigin</th>\n",
              "      <th>commodity_group</th>\n",
              "    </tr>\n",
              "  </thead>\n",
              "  <tbody>\n",
              "    <tr>\n",
              "      <th>0</th>\n",
              "      <td>17</td>\n",
              "      <td>Tropical fruit — Persimmon — Plain</td>\n",
              "      <td>NaN</td>\n",
              "      <td>1.0</td>\n",
              "      <td>1</td>\n",
              "      <td>NaN</td>\n",
              "      <td>5551018</td>\n",
              "    </tr>\n",
              "    <tr>\n",
              "      <th>1</th>\n",
              "      <td>18</td>\n",
              "      <td>Tropical fruit — Exotic</td>\n",
              "      <td>NaN</td>\n",
              "      <td>1.0</td>\n",
              "      <td>1</td>\n",
              "      <td>NaN</td>\n",
              "      <td>5551018</td>\n",
              "    </tr>\n",
              "    <tr>\n",
              "      <th>2</th>\n",
              "      <td>24</td>\n",
              "      <td>Tropical fruit — Pomegranate— Plain</td>\n",
              "      <td>NaN</td>\n",
              "      <td>1.0</td>\n",
              "      <td>1</td>\n",
              "      <td>NaN</td>\n",
              "      <td>5551018</td>\n",
              "    </tr>\n",
              "    <tr>\n",
              "      <th>3</th>\n",
              "      <td>25</td>\n",
              "      <td>Citrus fruit — Orange — Plain</td>\n",
              "      <td>NaN</td>\n",
              "      <td>1.0</td>\n",
              "      <td>2</td>\n",
              "      <td>8.0</td>\n",
              "      <td>5551018</td>\n",
              "    </tr>\n",
              "    <tr>\n",
              "      <th>4</th>\n",
              "      <td>208</td>\n",
              "      <td>Therapeutic-table water — Ukraine — PET — from...</td>\n",
              "      <td>1241.0</td>\n",
              "      <td>1.5</td>\n",
              "      <td>3</td>\n",
              "      <td>1.0</td>\n",
              "      <td>5550022</td>\n",
              "    </tr>\n",
              "  </tbody>\n",
              "</table>\n",
              "</div>"
            ],
            "text/plain": [
              "   SKU  ... commodity_group\n",
              "0   17  ...         5551018\n",
              "1   18  ...         5551018\n",
              "2   24  ...         5551018\n",
              "3   25  ...         5551018\n",
              "4  208  ...         5550022\n",
              "\n",
              "[5 rows x 7 columns]"
            ]
          },
          "metadata": {},
          "execution_count": 20
        }
      ]
    },
    {
      "cell_type": "code",
      "metadata": {
        "id": "r1BwebI8Y-le"
      },
      "source": [
        "#Treating null values and extracting features from data"
      ],
      "execution_count": null,
      "outputs": []
    },
    {
      "cell_type": "code",
      "metadata": {
        "id": "Kd_RDE71UeYX"
      },
      "source": [
        "pd.options.mode.chained_assignment = None"
      ],
      "execution_count": 21,
      "outputs": []
    },
    {
      "cell_type": "code",
      "metadata": {
        "id": "jq09SdkuyzJn"
      },
      "source": [
        "df22[\"productType_caption_ENG\"]=df22[\"productType_caption_ENG\"].fillna(\"null\")"
      ],
      "execution_count": 22,
      "outputs": []
    },
    {
      "cell_type": "code",
      "metadata": {
        "colab": {
          "base_uri": "https://localhost:8080/"
        },
        "id": "CEqaQ3XHAt_7",
        "outputId": "cfede7d5-35aa-4cf8-8fe5-c6f334137662"
      },
      "source": [
        "df22[\"productType_caption_ENG\"].isnull().sum()"
      ],
      "execution_count": null,
      "outputs": [
        {
          "output_type": "execute_result",
          "data": {
            "text/plain": [
              "0"
            ]
          },
          "metadata": {},
          "execution_count": 14
        }
      ]
    },
    {
      "cell_type": "code",
      "metadata": {
        "id": "M-Mp65S3Fd4e"
      },
      "source": [
        "df22[\"productType_caption_ENG\"]=df22[\"productType_caption_ENG\"].astype('str')"
      ],
      "execution_count": 23,
      "outputs": []
    },
    {
      "cell_type": "code",
      "metadata": {
        "id": "9-IOLr8gv81s"
      },
      "source": [
        "df22[\"productType_caption_ENG\"]=df22[\"productType_caption_ENG\"].apply(lambda x:x.split()[0])\n",
        "    "
      ],
      "execution_count": 24,
      "outputs": []
    },
    {
      "cell_type": "code",
      "metadata": {
        "colab": {
          "base_uri": "https://localhost:8080/"
        },
        "id": "wD9aJxR9GKE5",
        "outputId": "960ec0aa-7f9b-4a57-fae6-0c064db9a6cc"
      },
      "source": [
        "df22[\"productType_caption_ENG\"].dtype"
      ],
      "execution_count": 25,
      "outputs": [
        {
          "output_type": "execute_result",
          "data": {
            "text/plain": [
              "dtype('O')"
            ]
          },
          "metadata": {},
          "execution_count": 25
        }
      ]
    },
    {
      "cell_type": "code",
      "metadata": {
        "colab": {
          "base_uri": "https://localhost:8080/"
        },
        "id": "b7DkBeHd-eUd",
        "outputId": "f6d11e9c-9cc5-49be-be09-548658db0724"
      },
      "source": [
        "\n",
        "df22[\"productType_caption_ENG\"].nunique()\n"
      ],
      "execution_count": 26,
      "outputs": [
        {
          "output_type": "execute_result",
          "data": {
            "text/plain": [
              "45"
            ]
          },
          "metadata": {},
          "execution_count": 26
        }
      ]
    },
    {
      "cell_type": "code",
      "metadata": {
        "colab": {
          "base_uri": "https://localhost:8080/"
        },
        "id": "e35faPe-lprn",
        "outputId": "2128618e-4c69-4c10-8507-314e7d182f23"
      },
      "source": [
        "df22.nunique()"
      ],
      "execution_count": 27,
      "outputs": [
        {
          "output_type": "execute_result",
          "data": {
            "text/plain": [
              "SKU                        1961\n",
              "productType_caption_ENG      45\n",
              "brandId                      89\n",
              "lagerUnitQuantity           118\n",
              "lagerUnitTypeId               5\n",
              "countryOfOrigin              24\n",
              "commodity_group               5\n",
              "dtype: int64"
            ]
          },
          "metadata": {},
          "execution_count": 27
        }
      ]
    },
    {
      "cell_type": "code",
      "metadata": {
        "colab": {
          "base_uri": "https://localhost:8080/",
          "height": 204
        },
        "id": "A9FBb9YCZfsw",
        "outputId": "4f0abef3-f528-4f35-ca45-14b602d7027c"
      },
      "source": [
        "df22.head()"
      ],
      "execution_count": 28,
      "outputs": [
        {
          "output_type": "execute_result",
          "data": {
            "text/html": [
              "<div>\n",
              "<style scoped>\n",
              "    .dataframe tbody tr th:only-of-type {\n",
              "        vertical-align: middle;\n",
              "    }\n",
              "\n",
              "    .dataframe tbody tr th {\n",
              "        vertical-align: top;\n",
              "    }\n",
              "\n",
              "    .dataframe thead th {\n",
              "        text-align: right;\n",
              "    }\n",
              "</style>\n",
              "<table border=\"1\" class=\"dataframe\">\n",
              "  <thead>\n",
              "    <tr style=\"text-align: right;\">\n",
              "      <th></th>\n",
              "      <th>SKU</th>\n",
              "      <th>productType_caption_ENG</th>\n",
              "      <th>brandId</th>\n",
              "      <th>lagerUnitQuantity</th>\n",
              "      <th>lagerUnitTypeId</th>\n",
              "      <th>countryOfOrigin</th>\n",
              "      <th>commodity_group</th>\n",
              "    </tr>\n",
              "  </thead>\n",
              "  <tbody>\n",
              "    <tr>\n",
              "      <th>0</th>\n",
              "      <td>17</td>\n",
              "      <td>Tropical</td>\n",
              "      <td>NaN</td>\n",
              "      <td>1.0</td>\n",
              "      <td>1</td>\n",
              "      <td>NaN</td>\n",
              "      <td>5551018</td>\n",
              "    </tr>\n",
              "    <tr>\n",
              "      <th>1</th>\n",
              "      <td>18</td>\n",
              "      <td>Tropical</td>\n",
              "      <td>NaN</td>\n",
              "      <td>1.0</td>\n",
              "      <td>1</td>\n",
              "      <td>NaN</td>\n",
              "      <td>5551018</td>\n",
              "    </tr>\n",
              "    <tr>\n",
              "      <th>2</th>\n",
              "      <td>24</td>\n",
              "      <td>Tropical</td>\n",
              "      <td>NaN</td>\n",
              "      <td>1.0</td>\n",
              "      <td>1</td>\n",
              "      <td>NaN</td>\n",
              "      <td>5551018</td>\n",
              "    </tr>\n",
              "    <tr>\n",
              "      <th>3</th>\n",
              "      <td>25</td>\n",
              "      <td>Citrus</td>\n",
              "      <td>NaN</td>\n",
              "      <td>1.0</td>\n",
              "      <td>2</td>\n",
              "      <td>8.0</td>\n",
              "      <td>5551018</td>\n",
              "    </tr>\n",
              "    <tr>\n",
              "      <th>4</th>\n",
              "      <td>208</td>\n",
              "      <td>Therapeutic-table</td>\n",
              "      <td>1241.0</td>\n",
              "      <td>1.5</td>\n",
              "      <td>3</td>\n",
              "      <td>1.0</td>\n",
              "      <td>5550022</td>\n",
              "    </tr>\n",
              "  </tbody>\n",
              "</table>\n",
              "</div>"
            ],
            "text/plain": [
              "   SKU productType_caption_ENG  ...  countryOfOrigin  commodity_group\n",
              "0   17                Tropical  ...              NaN          5551018\n",
              "1   18                Tropical  ...              NaN          5551018\n",
              "2   24                Tropical  ...              NaN          5551018\n",
              "3   25                  Citrus  ...              8.0          5551018\n",
              "4  208       Therapeutic-table  ...              1.0          5550022\n",
              "\n",
              "[5 rows x 7 columns]"
            ]
          },
          "metadata": {},
          "execution_count": 28
        }
      ]
    },
    {
      "cell_type": "code",
      "metadata": {
        "id": "zmM7A630v5U5"
      },
      "source": [
        "from sklearn.impute import SimpleImputer"
      ],
      "execution_count": 32,
      "outputs": []
    },
    {
      "cell_type": "code",
      "metadata": {
        "id": "CeVUnVCIZkTJ"
      },
      "source": [
        "sp=SimpleImputer(strategy=\"most_frequent\")"
      ],
      "execution_count": 33,
      "outputs": []
    },
    {
      "cell_type": "code",
      "metadata": {
        "id": "2Xf8qoNwPw9r"
      },
      "source": [
        "spfit=sp.fit_transform(df22)"
      ],
      "execution_count": 34,
      "outputs": []
    },
    {
      "cell_type": "code",
      "metadata": {
        "id": "GSSZS2wYP50T"
      },
      "source": [
        "df22=pd.DataFrame(spfit,columns=df22.columns)"
      ],
      "execution_count": 35,
      "outputs": []
    },
    {
      "cell_type": "code",
      "metadata": {
        "colab": {
          "base_uri": "https://localhost:8080/"
        },
        "id": "Z4wb6028P9TQ",
        "outputId": "ffef5e9e-a70d-4312-d224-aedef5889f30"
      },
      "source": [
        "df22.isnull().sum()"
      ],
      "execution_count": 36,
      "outputs": [
        {
          "output_type": "execute_result",
          "data": {
            "text/plain": [
              "SKU                        0\n",
              "productType_caption_ENG    0\n",
              "brandId                    0\n",
              "lagerUnitQuantity          0\n",
              "lagerUnitTypeId            0\n",
              "countryOfOrigin            0\n",
              "commodity_group            0\n",
              "dtype: int64"
            ]
          },
          "metadata": {},
          "execution_count": 36
        }
      ]
    },
    {
      "cell_type": "code",
      "metadata": {
        "colab": {
          "base_uri": "https://localhost:8080/",
          "height": 204
        },
        "id": "0Gswp5VeQNXb",
        "outputId": "2a8288ce-dbdf-49a5-f97d-cb771b0995f0"
      },
      "source": [
        "df3.head()"
      ],
      "execution_count": 37,
      "outputs": [
        {
          "output_type": "execute_result",
          "data": {
            "text/html": [
              "<div>\n",
              "<style scoped>\n",
              "    .dataframe tbody tr th:only-of-type {\n",
              "        vertical-align: middle;\n",
              "    }\n",
              "\n",
              "    .dataframe tbody tr th {\n",
              "        vertical-align: top;\n",
              "    }\n",
              "\n",
              "    .dataframe thead th {\n",
              "        text-align: right;\n",
              "    }\n",
              "</style>\n",
              "<table border=\"1\" class=\"dataframe\">\n",
              "  <thead>\n",
              "    <tr style=\"text-align: right;\">\n",
              "      <th></th>\n",
              "      <th>geoCluster</th>\n",
              "      <th>cityId</th>\n",
              "    </tr>\n",
              "  </thead>\n",
              "  <tbody>\n",
              "    <tr>\n",
              "      <th>0</th>\n",
              "      <td>21</td>\n",
              "      <td>1</td>\n",
              "    </tr>\n",
              "    <tr>\n",
              "      <th>1</th>\n",
              "      <td>47</td>\n",
              "      <td>1</td>\n",
              "    </tr>\n",
              "    <tr>\n",
              "      <th>2</th>\n",
              "      <td>48</td>\n",
              "      <td>1</td>\n",
              "    </tr>\n",
              "    <tr>\n",
              "      <th>3</th>\n",
              "      <td>92</td>\n",
              "      <td>1</td>\n",
              "    </tr>\n",
              "    <tr>\n",
              "      <th>4</th>\n",
              "      <td>112</td>\n",
              "      <td>1</td>\n",
              "    </tr>\n",
              "  </tbody>\n",
              "</table>\n",
              "</div>"
            ],
            "text/plain": [
              "   geoCluster  cityId\n",
              "0          21       1\n",
              "1          47       1\n",
              "2          48       1\n",
              "3          92       1\n",
              "4         112       1"
            ]
          },
          "metadata": {},
          "execution_count": 37
        }
      ]
    },
    {
      "cell_type": "code",
      "metadata": {
        "colab": {
          "base_uri": "https://localhost:8080/"
        },
        "id": "6SXL45RoQQM7",
        "outputId": "bbe9a1c1-49f6-430b-c3ca-f0d30041f67d"
      },
      "source": [
        "df3.shape"
      ],
      "execution_count": 38,
      "outputs": [
        {
          "output_type": "execute_result",
          "data": {
            "text/plain": [
              "(515, 2)"
            ]
          },
          "metadata": {},
          "execution_count": 38
        }
      ]
    },
    {
      "cell_type": "code",
      "metadata": {
        "colab": {
          "base_uri": "https://localhost:8080/"
        },
        "id": "wGco5jNkQVZA",
        "outputId": "284fd1be-9489-4935-fe0d-d7ffc7921c7f"
      },
      "source": [
        "df3.isnull().sum()"
      ],
      "execution_count": 39,
      "outputs": [
        {
          "output_type": "execute_result",
          "data": {
            "text/plain": [
              "geoCluster    0\n",
              "cityId        0\n",
              "dtype: int64"
            ]
          },
          "metadata": {},
          "execution_count": 39
        }
      ]
    },
    {
      "cell_type": "code",
      "metadata": {
        "colab": {
          "base_uri": "https://localhost:8080/"
        },
        "id": "GU_l1vUcQkwi",
        "outputId": "82d683ea-8c1a-4c9c-f26f-7ecd3489abe9"
      },
      "source": [
        "df1.isnull().sum()"
      ],
      "execution_count": 40,
      "outputs": [
        {
          "output_type": "execute_result",
          "data": {
            "text/plain": [
              "ID                   0\n",
              "geoCluster           0\n",
              "SKU                  0\n",
              "date                 0\n",
              "price         25975058\n",
              "sales         25975058\n",
              "dtype: int64"
            ]
          },
          "metadata": {},
          "execution_count": 40
        }
      ]
    },
    {
      "cell_type": "code",
      "metadata": {
        "id": "gSlajG8FZaCI"
      },
      "source": [
        "#Training data have unlabeled rows so removing unlabeled rows"
      ],
      "execution_count": 42,
      "outputs": []
    },
    {
      "cell_type": "code",
      "metadata": {
        "colab": {
          "base_uri": "https://localhost:8080/"
        },
        "id": "Rsv1eB4tQ911",
        "outputId": "db42b0f5-6293-4882-984a-1f1b8310352d"
      },
      "source": [
        "df1.info()"
      ],
      "execution_count": 43,
      "outputs": [
        {
          "output_type": "stream",
          "name": "stdout",
          "text": [
            "<class 'pandas.core.frame.DataFrame'>\n",
            "RangeIndex: 27956445 entries, 0 to 27956444\n",
            "Data columns (total 6 columns):\n",
            " #   Column      Dtype  \n",
            "---  ------      -----  \n",
            " 0   ID          object \n",
            " 1   geoCluster  int64  \n",
            " 2   SKU         int64  \n",
            " 3   date        object \n",
            " 4   price       float64\n",
            " 5   sales       float64\n",
            "dtypes: float64(2), int64(2), object(2)\n",
            "memory usage: 1.2+ GB\n"
          ]
        }
      ]
    },
    {
      "cell_type": "code",
      "metadata": {
        "id": "EP7_ZZrGSiB-"
      },
      "source": [
        "df11=df1.dropna(axis=0)"
      ],
      "execution_count": 44,
      "outputs": []
    },
    {
      "cell_type": "code",
      "metadata": {
        "colab": {
          "base_uri": "https://localhost:8080/"
        },
        "id": "DHnCQiFJSr_c",
        "outputId": "dafc6ba0-7f28-4ba0-bd83-b977ad9e6941"
      },
      "source": [
        "df11.shape"
      ],
      "execution_count": 45,
      "outputs": [
        {
          "output_type": "execute_result",
          "data": {
            "text/plain": [
              "(1981387, 6)"
            ]
          },
          "metadata": {},
          "execution_count": 45
        }
      ]
    },
    {
      "cell_type": "code",
      "metadata": {
        "id": "zYKwJZulZq6i"
      },
      "source": [
        "#Plotting pairplot for better understanding of data"
      ],
      "execution_count": 46,
      "outputs": []
    },
    {
      "cell_type": "code",
      "metadata": {
        "colab": {
          "base_uri": "https://localhost:8080/",
          "height": 743
        },
        "id": "PrjufWTdZL0R",
        "outputId": "4a608f1d-75c0-4a94-cd09-2c8857c3edf4"
      },
      "source": [
        "sns.pairplot(df11.sample(10000))"
      ],
      "execution_count": 48,
      "outputs": [
        {
          "output_type": "execute_result",
          "data": {
            "text/plain": [
              "<seaborn.axisgrid.PairGrid at 0x7f3611975dd0>"
            ]
          },
          "metadata": {},
          "execution_count": 48
        },
        {
          "output_type": "display_data",
          "data": {
            "image/png": "[encoded data removed]",
            "text/plain": [
              "<Figure size 720x720 with 20 Axes>"
            ]
          },
          "metadata": {
            "needs_background": "light"
          }
        }
      ]
    },
    {
      "cell_type": "code",
      "metadata": {
        "colab": {
          "base_uri": "https://localhost:8080/",
          "height": 297
        },
        "id": "8C18RB6Ka2F-",
        "outputId": "226520f6-d8f3-4e54-e105-6975a4e975e8"
      },
      "source": [
        "df11.describe()"
      ],
      "execution_count": 51,
      "outputs": [
        {
          "output_type": "execute_result",
          "data": {
            "text/html": [
              "<div>\n",
              "<style scoped>\n",
              "    .dataframe tbody tr th:only-of-type {\n",
              "        vertical-align: middle;\n",
              "    }\n",
              "\n",
              "    .dataframe tbody tr th {\n",
              "        vertical-align: top;\n",
              "    }\n",
              "\n",
              "    .dataframe thead th {\n",
              "        text-align: right;\n",
              "    }\n",
              "</style>\n",
              "<table border=\"1\" class=\"dataframe\">\n",
              "  <thead>\n",
              "    <tr style=\"text-align: right;\">\n",
              "      <th></th>\n",
              "      <th>geoCluster</th>\n",
              "      <th>SKU</th>\n",
              "      <th>price</th>\n",
              "      <th>sales</th>\n",
              "    </tr>\n",
              "  </thead>\n",
              "  <tbody>\n",
              "    <tr>\n",
              "      <th>count</th>\n",
              "      <td>1.981387e+06</td>\n",
              "      <td>1.981387e+06</td>\n",
              "      <td>1.981387e+06</td>\n",
              "      <td>1.981387e+06</td>\n",
              "    </tr>\n",
              "    <tr>\n",
              "      <th>mean</th>\n",
              "      <td>2.232462e+03</td>\n",
              "      <td>4.692176e+05</td>\n",
              "      <td>8.558095e+01</td>\n",
              "      <td>3.011340e+00</td>\n",
              "    </tr>\n",
              "    <tr>\n",
              "      <th>std</th>\n",
              "      <td>2.838213e+02</td>\n",
              "      <td>2.967224e+05</td>\n",
              "      <td>1.406909e+02</td>\n",
              "      <td>3.583562e+00</td>\n",
              "    </tr>\n",
              "    <tr>\n",
              "      <th>min</th>\n",
              "      <td>2.100000e+01</td>\n",
              "      <td>1.700000e+01</td>\n",
              "      <td>0.000000e+00</td>\n",
              "      <td>1.000000e-03</td>\n",
              "    </tr>\n",
              "    <tr>\n",
              "      <th>25%</th>\n",
              "      <td>2.041000e+03</td>\n",
              "      <td>1.441840e+05</td>\n",
              "      <td>2.139000e+01</td>\n",
              "      <td>1.000000e+00</td>\n",
              "    </tr>\n",
              "    <tr>\n",
              "      <th>50%</th>\n",
              "      <td>2.126000e+03</td>\n",
              "      <td>5.444620e+05</td>\n",
              "      <td>3.699000e+01</td>\n",
              "      <td>2.000000e+00</td>\n",
              "    </tr>\n",
              "    <tr>\n",
              "      <th>75%</th>\n",
              "      <td>2.290000e+03</td>\n",
              "      <td>7.401700e+05</td>\n",
              "      <td>6.829000e+01</td>\n",
              "      <td>4.000000e+00</td>\n",
              "    </tr>\n",
              "    <tr>\n",
              "      <th>max</th>\n",
              "      <td>3.230000e+03</td>\n",
              "      <td>8.711650e+05</td>\n",
              "      <td>7.246890e+03</td>\n",
              "      <td>8.010000e+02</td>\n",
              "    </tr>\n",
              "  </tbody>\n",
              "</table>\n",
              "</div>"
            ],
            "text/plain": [
              "         geoCluster           SKU         price         sales\n",
              "count  1.981387e+06  1.981387e+06  1.981387e+06  1.981387e+06\n",
              "mean   2.232462e+03  4.692176e+05  8.558095e+01  3.011340e+00\n",
              "std    2.838213e+02  2.967224e+05  1.406909e+02  3.583562e+00\n",
              "min    2.100000e+01  1.700000e+01  0.000000e+00  1.000000e-03\n",
              "25%    2.041000e+03  1.441840e+05  2.139000e+01  1.000000e+00\n",
              "50%    2.126000e+03  5.444620e+05  3.699000e+01  2.000000e+00\n",
              "75%    2.290000e+03  7.401700e+05  6.829000e+01  4.000000e+00\n",
              "max    3.230000e+03  8.711650e+05  7.246890e+03  8.010000e+02"
            ]
          },
          "metadata": {},
          "execution_count": 51
        }
      ]
    },
    {
      "cell_type": "code",
      "metadata": {
        "colab": {
          "base_uri": "https://localhost:8080/",
          "height": 282
        },
        "id": "HIaS9Lpca7nE",
        "outputId": "71db1206-64fd-4378-f5c4-77ecb84fe11f"
      },
      "source": [
        "df11[\"price\"].plot(kind=\"hist\",bins=1000)\n",
        "plt.xlim(0,400)"
      ],
      "execution_count": 59,
      "outputs": [
        {
          "output_type": "execute_result",
          "data": {
            "text/plain": [
              "(0.0, 400.0)"
            ]
          },
          "metadata": {},
          "execution_count": 59
        },
        {
          "output_type": "display_data",
          "data": {
            "image/png": "[encoded data removed]",
            "text/plain": [
              "<Figure size 432x288 with 1 Axes>"
            ]
          },
          "metadata": {
            "needs_background": "light"
          }
        }
      ]
    },
    {
      "cell_type": "code",
      "metadata": {
        "id": "CPO4zFY8bvCH"
      },
      "source": [
        "#price data is skwed"
      ],
      "execution_count": null,
      "outputs": []
    },
    {
      "cell_type": "markdown",
      "metadata": {
        "id": "DWQLcVIYacn0"
      },
      "source": [
        "By undestandining the plot we can say there is negative relationship between price and sales\n",
        "\n",
        "\n"
      ]
    },
    {
      "cell_type": "code",
      "metadata": {
        "colab": {
          "base_uri": "https://localhost:8080/"
        },
        "id": "CqqhlK3pRM8g",
        "outputId": "52c65404-dd54-4dbf-92c1-1b777cac52e9"
      },
      "source": [
        "test.shape"
      ],
      "execution_count": 49,
      "outputs": [
        {
          "output_type": "execute_result",
          "data": {
            "text/plain": [
              "(1666028, 5)"
            ]
          },
          "metadata": {},
          "execution_count": 49
        }
      ]
    },
    {
      "cell_type": "code",
      "metadata": {
        "id": "CUQVIek9YKl5"
      },
      "source": [
        "test[\"sales\"]=\"test\""
      ],
      "execution_count": 50,
      "outputs": []
    },
    {
      "cell_type": "code",
      "metadata": {
        "id": "pR3nXsSTX4PX"
      },
      "source": [
        "combinedf=pd.concat([df11,test])"
      ],
      "execution_count": 73,
      "outputs": []
    },
    {
      "cell_type": "code",
      "metadata": {
        "colab": {
          "base_uri": "https://localhost:8080/"
        },
        "id": "LFt0oYIGY874",
        "outputId": "6d1e91e5-12a0-4b6a-dfd5-1b6b2a91031b"
      },
      "source": [
        "combinedf.shape"
      ],
      "execution_count": 74,
      "outputs": [
        {
          "output_type": "execute_result",
          "data": {
            "text/plain": [
              "(3647415, 6)"
            ]
          },
          "metadata": {},
          "execution_count": 74
        }
      ]
    },
    {
      "cell_type": "code",
      "metadata": {
        "id": "H10vUwbDSWf5"
      },
      "source": [
        "combinedf=combinedf.set_index(\"SKU\").join(df22.set_index(\"SKU\"))"
      ],
      "execution_count": 75,
      "outputs": []
    },
    {
      "cell_type": "code",
      "metadata": {
        "colab": {
          "base_uri": "https://localhost:8080/",
          "height": 340
        },
        "id": "E6w_JhbpTF9A",
        "outputId": "6a9aef7c-fc2e-4fb5-8640-bf41dd94c934"
      },
      "source": [
        "combinedf.head()"
      ],
      "execution_count": 76,
      "outputs": [
        {
          "output_type": "execute_result",
          "data": {
            "text/html": [
              "<div>\n",
              "<style scoped>\n",
              "    .dataframe tbody tr th:only-of-type {\n",
              "        vertical-align: middle;\n",
              "    }\n",
              "\n",
              "    .dataframe tbody tr th {\n",
              "        vertical-align: top;\n",
              "    }\n",
              "\n",
              "    .dataframe thead th {\n",
              "        text-align: right;\n",
              "    }\n",
              "</style>\n",
              "<table border=\"1\" class=\"dataframe\">\n",
              "  <thead>\n",
              "    <tr style=\"text-align: right;\">\n",
              "      <th></th>\n",
              "      <th>ID</th>\n",
              "      <th>geoCluster</th>\n",
              "      <th>date</th>\n",
              "      <th>price</th>\n",
              "      <th>sales</th>\n",
              "      <th>productType_caption_ENG</th>\n",
              "      <th>brandId</th>\n",
              "      <th>lagerUnitQuantity</th>\n",
              "      <th>lagerUnitTypeId</th>\n",
              "      <th>countryOfOrigin</th>\n",
              "      <th>commodity_group</th>\n",
              "    </tr>\n",
              "    <tr>\n",
              "      <th>SKU</th>\n",
              "      <th></th>\n",
              "      <th></th>\n",
              "      <th></th>\n",
              "      <th></th>\n",
              "      <th></th>\n",
              "      <th></th>\n",
              "      <th></th>\n",
              "      <th></th>\n",
              "      <th></th>\n",
              "      <th></th>\n",
              "      <th></th>\n",
              "    </tr>\n",
              "  </thead>\n",
              "  <tbody>\n",
              "    <tr>\n",
              "      <th>17</th>\n",
              "      <td>RR28034383</td>\n",
              "      <td>1990</td>\n",
              "      <td>2020-12-15</td>\n",
              "      <td>55.49</td>\n",
              "      <td>0.8</td>\n",
              "      <td>Tropical</td>\n",
              "      <td>2737</td>\n",
              "      <td>1</td>\n",
              "      <td>1</td>\n",
              "      <td>1</td>\n",
              "      <td>5551018</td>\n",
              "    </tr>\n",
              "    <tr>\n",
              "      <th>17</th>\n",
              "      <td>RR28034386</td>\n",
              "      <td>1990</td>\n",
              "      <td>2020-12-18</td>\n",
              "      <td>49.79</td>\n",
              "      <td>1</td>\n",
              "      <td>Tropical</td>\n",
              "      <td>2737</td>\n",
              "      <td>1</td>\n",
              "      <td>1</td>\n",
              "      <td>1</td>\n",
              "      <td>5551018</td>\n",
              "    </tr>\n",
              "    <tr>\n",
              "      <th>17</th>\n",
              "      <td>RR28034387</td>\n",
              "      <td>1990</td>\n",
              "      <td>2020-12-19</td>\n",
              "      <td>49.79</td>\n",
              "      <td>1.7</td>\n",
              "      <td>Tropical</td>\n",
              "      <td>2737</td>\n",
              "      <td>1</td>\n",
              "      <td>1</td>\n",
              "      <td>1</td>\n",
              "      <td>5551018</td>\n",
              "    </tr>\n",
              "    <tr>\n",
              "      <th>17</th>\n",
              "      <td>RR28034390</td>\n",
              "      <td>1990</td>\n",
              "      <td>2020-12-22</td>\n",
              "      <td>61.19</td>\n",
              "      <td>0.6</td>\n",
              "      <td>Tropical</td>\n",
              "      <td>2737</td>\n",
              "      <td>1</td>\n",
              "      <td>1</td>\n",
              "      <td>1</td>\n",
              "      <td>5551018</td>\n",
              "    </tr>\n",
              "    <tr>\n",
              "      <th>17</th>\n",
              "      <td>RR28034398</td>\n",
              "      <td>1990</td>\n",
              "      <td>2020-12-30</td>\n",
              "      <td>52.59</td>\n",
              "      <td>0.7</td>\n",
              "      <td>Tropical</td>\n",
              "      <td>2737</td>\n",
              "      <td>1</td>\n",
              "      <td>1</td>\n",
              "      <td>1</td>\n",
              "      <td>5551018</td>\n",
              "    </tr>\n",
              "  </tbody>\n",
              "</table>\n",
              "</div>"
            ],
            "text/plain": [
              "             ID  geoCluster  ... countryOfOrigin  commodity_group\n",
              "SKU                          ...                                 \n",
              "17   RR28034383        1990  ...               1          5551018\n",
              "17   RR28034386        1990  ...               1          5551018\n",
              "17   RR28034387        1990  ...               1          5551018\n",
              "17   RR28034390        1990  ...               1          5551018\n",
              "17   RR28034398        1990  ...               1          5551018\n",
              "\n",
              "[5 rows x 11 columns]"
            ]
          },
          "metadata": {},
          "execution_count": 76
        }
      ]
    },
    {
      "cell_type": "code",
      "metadata": {
        "id": "afwGGuHGVFim"
      },
      "source": [
        "combinedf=combinedf.reset_index()"
      ],
      "execution_count": 77,
      "outputs": []
    },
    {
      "cell_type": "code",
      "metadata": {
        "colab": {
          "base_uri": "https://localhost:8080/"
        },
        "id": "VDrg4uScT7lB",
        "outputId": "43efdd58-a535-4cd3-c12e-6952ffe657bc"
      },
      "source": [
        "combinedf.shape"
      ],
      "execution_count": 78,
      "outputs": [
        {
          "output_type": "execute_result",
          "data": {
            "text/plain": [
              "(3647415, 12)"
            ]
          },
          "metadata": {},
          "execution_count": 78
        }
      ]
    },
    {
      "cell_type": "code",
      "metadata": {
        "id": "rWvJJ3kcUUXN"
      },
      "source": [
        "combinedfnew=combinedf.set_index(\"geoCluster\").join(df3.set_index(\"geoCluster\"))"
      ],
      "execution_count": 79,
      "outputs": []
    },
    {
      "cell_type": "code",
      "metadata": {
        "colab": {
          "base_uri": "https://localhost:8080/"
        },
        "id": "-1OK4uGTVplW",
        "outputId": "8403c5d3-03a4-4827-85bd-816180f96bb2"
      },
      "source": [
        "combinedfnew.shape"
      ],
      "execution_count": 80,
      "outputs": [
        {
          "output_type": "execute_result",
          "data": {
            "text/plain": [
              "(3647415, 12)"
            ]
          },
          "metadata": {},
          "execution_count": 80
        }
      ]
    },
    {
      "cell_type": "code",
      "metadata": {
        "colab": {
          "base_uri": "https://localhost:8080/",
          "height": 340
        },
        "id": "DsZa2eQtVt6E",
        "outputId": "b7196343-125d-4b09-cdb9-452850821067"
      },
      "source": [
        "combinedfnew.head()"
      ],
      "execution_count": 81,
      "outputs": [
        {
          "output_type": "execute_result",
          "data": {
            "text/html": [
              "<div>\n",
              "<style scoped>\n",
              "    .dataframe tbody tr th:only-of-type {\n",
              "        vertical-align: middle;\n",
              "    }\n",
              "\n",
              "    .dataframe tbody tr th {\n",
              "        vertical-align: top;\n",
              "    }\n",
              "\n",
              "    .dataframe thead th {\n",
              "        text-align: right;\n",
              "    }\n",
              "</style>\n",
              "<table border=\"1\" class=\"dataframe\">\n",
              "  <thead>\n",
              "    <tr style=\"text-align: right;\">\n",
              "      <th></th>\n",
              "      <th>SKU</th>\n",
              "      <th>ID</th>\n",
              "      <th>date</th>\n",
              "      <th>price</th>\n",
              "      <th>sales</th>\n",
              "      <th>productType_caption_ENG</th>\n",
              "      <th>brandId</th>\n",
              "      <th>lagerUnitQuantity</th>\n",
              "      <th>lagerUnitTypeId</th>\n",
              "      <th>countryOfOrigin</th>\n",
              "      <th>commodity_group</th>\n",
              "      <th>cityId</th>\n",
              "    </tr>\n",
              "    <tr>\n",
              "      <th>geoCluster</th>\n",
              "      <th></th>\n",
              "      <th></th>\n",
              "      <th></th>\n",
              "      <th></th>\n",
              "      <th></th>\n",
              "      <th></th>\n",
              "      <th></th>\n",
              "      <th></th>\n",
              "      <th></th>\n",
              "      <th></th>\n",
              "      <th></th>\n",
              "      <th></th>\n",
              "    </tr>\n",
              "  </thead>\n",
              "  <tbody>\n",
              "    <tr>\n",
              "      <th>21</th>\n",
              "      <td>32485</td>\n",
              "      <td>RR27956447</td>\n",
              "      <td>2021-07-08</td>\n",
              "      <td>39.69</td>\n",
              "      <td>0.9</td>\n",
              "      <td>Banana</td>\n",
              "      <td>2737</td>\n",
              "      <td>1</td>\n",
              "      <td>1</td>\n",
              "      <td>1</td>\n",
              "      <td>5551018</td>\n",
              "      <td>1</td>\n",
              "    </tr>\n",
              "    <tr>\n",
              "      <th>21</th>\n",
              "      <td>32485</td>\n",
              "      <td>RR1666030</td>\n",
              "      <td>2021-07-20</td>\n",
              "      <td>66.69</td>\n",
              "      <td>test</td>\n",
              "      <td>Banana</td>\n",
              "      <td>2737</td>\n",
              "      <td>1</td>\n",
              "      <td>1</td>\n",
              "      <td>1</td>\n",
              "      <td>5551018</td>\n",
              "      <td>1</td>\n",
              "    </tr>\n",
              "    <tr>\n",
              "      <th>21</th>\n",
              "      <td>32485</td>\n",
              "      <td>RR1666031</td>\n",
              "      <td>2021-07-21</td>\n",
              "      <td>66.69</td>\n",
              "      <td>test</td>\n",
              "      <td>Banana</td>\n",
              "      <td>2737</td>\n",
              "      <td>1</td>\n",
              "      <td>1</td>\n",
              "      <td>1</td>\n",
              "      <td>5551018</td>\n",
              "      <td>1</td>\n",
              "    </tr>\n",
              "    <tr>\n",
              "      <th>21</th>\n",
              "      <td>32485</td>\n",
              "      <td>RR1666032</td>\n",
              "      <td>2021-07-22</td>\n",
              "      <td>66.69</td>\n",
              "      <td>test</td>\n",
              "      <td>Banana</td>\n",
              "      <td>2737</td>\n",
              "      <td>1</td>\n",
              "      <td>1</td>\n",
              "      <td>1</td>\n",
              "      <td>5551018</td>\n",
              "      <td>1</td>\n",
              "    </tr>\n",
              "    <tr>\n",
              "      <th>21</th>\n",
              "      <td>32485</td>\n",
              "      <td>RR1666033</td>\n",
              "      <td>2021-07-23</td>\n",
              "      <td>66.69</td>\n",
              "      <td>test</td>\n",
              "      <td>Banana</td>\n",
              "      <td>2737</td>\n",
              "      <td>1</td>\n",
              "      <td>1</td>\n",
              "      <td>1</td>\n",
              "      <td>5551018</td>\n",
              "      <td>1</td>\n",
              "    </tr>\n",
              "  </tbody>\n",
              "</table>\n",
              "</div>"
            ],
            "text/plain": [
              "              SKU          ID  ... commodity_group  cityId\n",
              "geoCluster                     ...                        \n",
              "21          32485  RR27956447  ...         5551018       1\n",
              "21          32485   RR1666030  ...         5551018       1\n",
              "21          32485   RR1666031  ...         5551018       1\n",
              "21          32485   RR1666032  ...         5551018       1\n",
              "21          32485   RR1666033  ...         5551018       1\n",
              "\n",
              "[5 rows x 12 columns]"
            ]
          },
          "metadata": {},
          "execution_count": 81
        }
      ]
    },
    {
      "cell_type": "code",
      "metadata": {
        "id": "c9NjiS6BVzRL"
      },
      "source": [
        "combinedfnew=combinedfnew.reset_index()"
      ],
      "execution_count": 82,
      "outputs": []
    },
    {
      "cell_type": "code",
      "metadata": {
        "colab": {
          "base_uri": "https://localhost:8080/"
        },
        "id": "ExweCVMTWEVT",
        "outputId": "908a1b02-689b-4555-f4db-7fc49298974b"
      },
      "source": [
        "combinedfnew.info()"
      ],
      "execution_count": 83,
      "outputs": [
        {
          "output_type": "stream",
          "name": "stdout",
          "text": [
            "<class 'pandas.core.frame.DataFrame'>\n",
            "RangeIndex: 3647415 entries, 0 to 3647414\n",
            "Data columns (total 13 columns):\n",
            " #   Column                   Dtype  \n",
            "---  ------                   -----  \n",
            " 0   geoCluster               int64  \n",
            " 1   SKU                      int64  \n",
            " 2   ID                       object \n",
            " 3   date                     object \n",
            " 4   price                    float64\n",
            " 5   sales                    object \n",
            " 6   productType_caption_ENG  object \n",
            " 7   brandId                  object \n",
            " 8   lagerUnitQuantity        object \n",
            " 9   lagerUnitTypeId          object \n",
            " 10  countryOfOrigin          object \n",
            " 11  commodity_group          object \n",
            " 12  cityId                   int64  \n",
            "dtypes: float64(1), int64(3), object(9)\n",
            "memory usage: 361.8+ MB\n"
          ]
        }
      ]
    },
    {
      "cell_type": "code",
      "metadata": {
        "id": "UMm7WRrmZW4Y"
      },
      "source": [
        "combinedfnew[\"date\"]=pd.to_datetime(combinedfnew[\"date\"])"
      ],
      "execution_count": 84,
      "outputs": []
    },
    {
      "cell_type": "code",
      "metadata": {
        "colab": {
          "base_uri": "https://localhost:8080/",
          "height": 309
        },
        "id": "l1c-m3UVWFXz",
        "outputId": "989e5d78-3eab-4324-e797-5ac8649a3086"
      },
      "source": [
        "combinedfnew.head()"
      ],
      "execution_count": 85,
      "outputs": [
        {
          "output_type": "execute_result",
          "data": {
            "text/html": [
              "<div>\n",
              "<style scoped>\n",
              "    .dataframe tbody tr th:only-of-type {\n",
              "        vertical-align: middle;\n",
              "    }\n",
              "\n",
              "    .dataframe tbody tr th {\n",
              "        vertical-align: top;\n",
              "    }\n",
              "\n",
              "    .dataframe thead th {\n",
              "        text-align: right;\n",
              "    }\n",
              "</style>\n",
              "<table border=\"1\" class=\"dataframe\">\n",
              "  <thead>\n",
              "    <tr style=\"text-align: right;\">\n",
              "      <th></th>\n",
              "      <th>geoCluster</th>\n",
              "      <th>SKU</th>\n",
              "      <th>ID</th>\n",
              "      <th>date</th>\n",
              "      <th>price</th>\n",
              "      <th>sales</th>\n",
              "      <th>productType_caption_ENG</th>\n",
              "      <th>brandId</th>\n",
              "      <th>lagerUnitQuantity</th>\n",
              "      <th>lagerUnitTypeId</th>\n",
              "      <th>countryOfOrigin</th>\n",
              "      <th>commodity_group</th>\n",
              "      <th>cityId</th>\n",
              "    </tr>\n",
              "  </thead>\n",
              "  <tbody>\n",
              "    <tr>\n",
              "      <th>0</th>\n",
              "      <td>21</td>\n",
              "      <td>32485</td>\n",
              "      <td>RR27956447</td>\n",
              "      <td>2021-07-08</td>\n",
              "      <td>39.69</td>\n",
              "      <td>0.9</td>\n",
              "      <td>Banana</td>\n",
              "      <td>2737</td>\n",
              "      <td>1</td>\n",
              "      <td>1</td>\n",
              "      <td>1</td>\n",
              "      <td>5551018</td>\n",
              "      <td>1</td>\n",
              "    </tr>\n",
              "    <tr>\n",
              "      <th>1</th>\n",
              "      <td>21</td>\n",
              "      <td>32485</td>\n",
              "      <td>RR1666030</td>\n",
              "      <td>2021-07-20</td>\n",
              "      <td>66.69</td>\n",
              "      <td>test</td>\n",
              "      <td>Banana</td>\n",
              "      <td>2737</td>\n",
              "      <td>1</td>\n",
              "      <td>1</td>\n",
              "      <td>1</td>\n",
              "      <td>5551018</td>\n",
              "      <td>1</td>\n",
              "    </tr>\n",
              "    <tr>\n",
              "      <th>2</th>\n",
              "      <td>21</td>\n",
              "      <td>32485</td>\n",
              "      <td>RR1666031</td>\n",
              "      <td>2021-07-21</td>\n",
              "      <td>66.69</td>\n",
              "      <td>test</td>\n",
              "      <td>Banana</td>\n",
              "      <td>2737</td>\n",
              "      <td>1</td>\n",
              "      <td>1</td>\n",
              "      <td>1</td>\n",
              "      <td>5551018</td>\n",
              "      <td>1</td>\n",
              "    </tr>\n",
              "    <tr>\n",
              "      <th>3</th>\n",
              "      <td>21</td>\n",
              "      <td>32485</td>\n",
              "      <td>RR1666032</td>\n",
              "      <td>2021-07-22</td>\n",
              "      <td>66.69</td>\n",
              "      <td>test</td>\n",
              "      <td>Banana</td>\n",
              "      <td>2737</td>\n",
              "      <td>1</td>\n",
              "      <td>1</td>\n",
              "      <td>1</td>\n",
              "      <td>5551018</td>\n",
              "      <td>1</td>\n",
              "    </tr>\n",
              "    <tr>\n",
              "      <th>4</th>\n",
              "      <td>21</td>\n",
              "      <td>32485</td>\n",
              "      <td>RR1666033</td>\n",
              "      <td>2021-07-23</td>\n",
              "      <td>66.69</td>\n",
              "      <td>test</td>\n",
              "      <td>Banana</td>\n",
              "      <td>2737</td>\n",
              "      <td>1</td>\n",
              "      <td>1</td>\n",
              "      <td>1</td>\n",
              "      <td>5551018</td>\n",
              "      <td>1</td>\n",
              "    </tr>\n",
              "  </tbody>\n",
              "</table>\n",
              "</div>"
            ],
            "text/plain": [
              "   geoCluster    SKU          ID  ... countryOfOrigin  commodity_group cityId\n",
              "0          21  32485  RR27956447  ...               1          5551018      1\n",
              "1          21  32485   RR1666030  ...               1          5551018      1\n",
              "2          21  32485   RR1666031  ...               1          5551018      1\n",
              "3          21  32485   RR1666032  ...               1          5551018      1\n",
              "4          21  32485   RR1666033  ...               1          5551018      1\n",
              "\n",
              "[5 rows x 13 columns]"
            ]
          },
          "metadata": {},
          "execution_count": 85
        }
      ]
    },
    {
      "cell_type": "code",
      "metadata": {
        "id": "f7NQBd2xWJN2"
      },
      "source": [
        "combinedfnew[\"month\"]=pd.DatetimeIndex(combinedfnew[\"date\"]).month"
      ],
      "execution_count": 86,
      "outputs": []
    },
    {
      "cell_type": "code",
      "metadata": {
        "id": "8QY_Cb7ga6me"
      },
      "source": [
        "combinedfnew[\"year\"]=pd.DatetimeIndex(combinedfnew[\"date\"]).year"
      ],
      "execution_count": 87,
      "outputs": []
    },
    {
      "cell_type": "code",
      "metadata": {
        "colab": {
          "base_uri": "https://localhost:8080/",
          "height": 309
        },
        "id": "pIzm4Z75elT1",
        "outputId": "7ad6d0af-83b5-4596-a72e-3cd8f5e20b33"
      },
      "source": [
        "combinedfnew.head()"
      ],
      "execution_count": 88,
      "outputs": [
        {
          "output_type": "execute_result",
          "data": {
            "text/html": [
              "<div>\n",
              "<style scoped>\n",
              "    .dataframe tbody tr th:only-of-type {\n",
              "        vertical-align: middle;\n",
              "    }\n",
              "\n",
              "    .dataframe tbody tr th {\n",
              "        vertical-align: top;\n",
              "    }\n",
              "\n",
              "    .dataframe thead th {\n",
              "        text-align: right;\n",
              "    }\n",
              "</style>\n",
              "<table border=\"1\" class=\"dataframe\">\n",
              "  <thead>\n",
              "    <tr style=\"text-align: right;\">\n",
              "      <th></th>\n",
              "      <th>geoCluster</th>\n",
              "      <th>SKU</th>\n",
              "      <th>ID</th>\n",
              "      <th>date</th>\n",
              "      <th>price</th>\n",
              "      <th>sales</th>\n",
              "      <th>productType_caption_ENG</th>\n",
              "      <th>brandId</th>\n",
              "      <th>lagerUnitQuantity</th>\n",
              "      <th>lagerUnitTypeId</th>\n",
              "      <th>countryOfOrigin</th>\n",
              "      <th>commodity_group</th>\n",
              "      <th>cityId</th>\n",
              "      <th>month</th>\n",
              "      <th>year</th>\n",
              "    </tr>\n",
              "  </thead>\n",
              "  <tbody>\n",
              "    <tr>\n",
              "      <th>0</th>\n",
              "      <td>21</td>\n",
              "      <td>32485</td>\n",
              "      <td>RR27956447</td>\n",
              "      <td>2021-07-08</td>\n",
              "      <td>39.69</td>\n",
              "      <td>0.9</td>\n",
              "      <td>Banana</td>\n",
              "      <td>2737</td>\n",
              "      <td>1</td>\n",
              "      <td>1</td>\n",
              "      <td>1</td>\n",
              "      <td>5551018</td>\n",
              "      <td>1</td>\n",
              "      <td>7</td>\n",
              "      <td>2021</td>\n",
              "    </tr>\n",
              "    <tr>\n",
              "      <th>1</th>\n",
              "      <td>21</td>\n",
              "      <td>32485</td>\n",
              "      <td>RR1666030</td>\n",
              "      <td>2021-07-20</td>\n",
              "      <td>66.69</td>\n",
              "      <td>test</td>\n",
              "      <td>Banana</td>\n",
              "      <td>2737</td>\n",
              "      <td>1</td>\n",
              "      <td>1</td>\n",
              "      <td>1</td>\n",
              "      <td>5551018</td>\n",
              "      <td>1</td>\n",
              "      <td>7</td>\n",
              "      <td>2021</td>\n",
              "    </tr>\n",
              "    <tr>\n",
              "      <th>2</th>\n",
              "      <td>21</td>\n",
              "      <td>32485</td>\n",
              "      <td>RR1666031</td>\n",
              "      <td>2021-07-21</td>\n",
              "      <td>66.69</td>\n",
              "      <td>test</td>\n",
              "      <td>Banana</td>\n",
              "      <td>2737</td>\n",
              "      <td>1</td>\n",
              "      <td>1</td>\n",
              "      <td>1</td>\n",
              "      <td>5551018</td>\n",
              "      <td>1</td>\n",
              "      <td>7</td>\n",
              "      <td>2021</td>\n",
              "    </tr>\n",
              "    <tr>\n",
              "      <th>3</th>\n",
              "      <td>21</td>\n",
              "      <td>32485</td>\n",
              "      <td>RR1666032</td>\n",
              "      <td>2021-07-22</td>\n",
              "      <td>66.69</td>\n",
              "      <td>test</td>\n",
              "      <td>Banana</td>\n",
              "      <td>2737</td>\n",
              "      <td>1</td>\n",
              "      <td>1</td>\n",
              "      <td>1</td>\n",
              "      <td>5551018</td>\n",
              "      <td>1</td>\n",
              "      <td>7</td>\n",
              "      <td>2021</td>\n",
              "    </tr>\n",
              "    <tr>\n",
              "      <th>4</th>\n",
              "      <td>21</td>\n",
              "      <td>32485</td>\n",
              "      <td>RR1666033</td>\n",
              "      <td>2021-07-23</td>\n",
              "      <td>66.69</td>\n",
              "      <td>test</td>\n",
              "      <td>Banana</td>\n",
              "      <td>2737</td>\n",
              "      <td>1</td>\n",
              "      <td>1</td>\n",
              "      <td>1</td>\n",
              "      <td>5551018</td>\n",
              "      <td>1</td>\n",
              "      <td>7</td>\n",
              "      <td>2021</td>\n",
              "    </tr>\n",
              "  </tbody>\n",
              "</table>\n",
              "</div>"
            ],
            "text/plain": [
              "   geoCluster    SKU          ID  ... cityId  month  year\n",
              "0          21  32485  RR27956447  ...      1      7  2021\n",
              "1          21  32485   RR1666030  ...      1      7  2021\n",
              "2          21  32485   RR1666031  ...      1      7  2021\n",
              "3          21  32485   RR1666032  ...      1      7  2021\n",
              "4          21  32485   RR1666033  ...      1      7  2021\n",
              "\n",
              "[5 rows x 15 columns]"
            ]
          },
          "metadata": {},
          "execution_count": 88
        }
      ]
    },
    {
      "cell_type": "code",
      "metadata": {
        "colab": {
          "base_uri": "https://localhost:8080/"
        },
        "id": "As4BIdRzfK-4",
        "outputId": "6451ecc5-b136-4328-88d9-57a4820c07eb"
      },
      "source": [
        "combinedfnew.cityId.nunique()"
      ],
      "execution_count": 89,
      "outputs": [
        {
          "output_type": "execute_result",
          "data": {
            "text/plain": [
              "3"
            ]
          },
          "metadata": {},
          "execution_count": 89
        }
      ]
    },
    {
      "cell_type": "code",
      "metadata": {
        "id": "KXxz-7ubetCG"
      },
      "source": [
        "combinedffinal=combinedfnew.drop([\"SKU\",\"ID\",\"date\"],axis=1)"
      ],
      "execution_count": 90,
      "outputs": []
    },
    {
      "cell_type": "code",
      "metadata": {
        "id": "XwyBj8YDfl_P"
      },
      "source": [
        "x1=combinedffinal[[\"sales\",\"price\"]]"
      ],
      "execution_count": 91,
      "outputs": []
    },
    {
      "cell_type": "code",
      "metadata": {
        "colab": {
          "base_uri": "https://localhost:8080/",
          "height": 204
        },
        "id": "ozP07p3c-U5I",
        "outputId": "d67adc14-ec9d-4eac-9701-6e9f6a3f7a45"
      },
      "source": [
        "x1.head()"
      ],
      "execution_count": 92,
      "outputs": [
        {
          "output_type": "execute_result",
          "data": {
            "text/html": [
              "<div>\n",
              "<style scoped>\n",
              "    .dataframe tbody tr th:only-of-type {\n",
              "        vertical-align: middle;\n",
              "    }\n",
              "\n",
              "    .dataframe tbody tr th {\n",
              "        vertical-align: top;\n",
              "    }\n",
              "\n",
              "    .dataframe thead th {\n",
              "        text-align: right;\n",
              "    }\n",
              "</style>\n",
              "<table border=\"1\" class=\"dataframe\">\n",
              "  <thead>\n",
              "    <tr style=\"text-align: right;\">\n",
              "      <th></th>\n",
              "      <th>sales</th>\n",
              "      <th>price</th>\n",
              "    </tr>\n",
              "  </thead>\n",
              "  <tbody>\n",
              "    <tr>\n",
              "      <th>0</th>\n",
              "      <td>0.9</td>\n",
              "      <td>39.69</td>\n",
              "    </tr>\n",
              "    <tr>\n",
              "      <th>1</th>\n",
              "      <td>test</td>\n",
              "      <td>66.69</td>\n",
              "    </tr>\n",
              "    <tr>\n",
              "      <th>2</th>\n",
              "      <td>test</td>\n",
              "      <td>66.69</td>\n",
              "    </tr>\n",
              "    <tr>\n",
              "      <th>3</th>\n",
              "      <td>test</td>\n",
              "      <td>66.69</td>\n",
              "    </tr>\n",
              "    <tr>\n",
              "      <th>4</th>\n",
              "      <td>test</td>\n",
              "      <td>66.69</td>\n",
              "    </tr>\n",
              "  </tbody>\n",
              "</table>\n",
              "</div>"
            ],
            "text/plain": [
              "  sales  price\n",
              "0   0.9  39.69\n",
              "1  test  66.69\n",
              "2  test  66.69\n",
              "3  test  66.69\n",
              "4  test  66.69"
            ]
          },
          "metadata": {},
          "execution_count": 92
        }
      ]
    },
    {
      "cell_type": "code",
      "metadata": {
        "id": "_vIzzZqD9Rx9"
      },
      "source": [
        "x1[\"price\"]=(x1[\"price\"]-x1.price.min())/(x1.price.max()-x1.price.min())"
      ],
      "execution_count": 93,
      "outputs": []
    },
    {
      "cell_type": "code",
      "metadata": {
        "id": "jdzR_Oy2gDGS"
      },
      "source": [
        "x2=combinedffinal.drop(x1.columns,axis=1)"
      ],
      "execution_count": 94,
      "outputs": []
    },
    {
      "cell_type": "code",
      "metadata": {
        "colab": {
          "base_uri": "https://localhost:8080/"
        },
        "id": "gB0WG0eFgMF3",
        "outputId": "ffe5782d-6b26-44a8-e3a0-e5d1e379d3fc"
      },
      "source": [
        "x2.shape"
      ],
      "execution_count": 95,
      "outputs": [
        {
          "output_type": "execute_result",
          "data": {
            "text/plain": [
              "(3647415, 10)"
            ]
          },
          "metadata": {},
          "execution_count": 95
        }
      ]
    },
    {
      "cell_type": "code",
      "metadata": {
        "id": "1JHblyD1gOZf"
      },
      "source": [
        "x2=pd.get_dummies(x2)"
      ],
      "execution_count": 96,
      "outputs": []
    },
    {
      "cell_type": "code",
      "metadata": {
        "colab": {
          "base_uri": "https://localhost:8080/"
        },
        "id": "xApQDwoRgTu9",
        "outputId": "ca88af35-c2f6-4083-ea20-659b5b197e52"
      },
      "source": [
        "x2.shape"
      ],
      "execution_count": 97,
      "outputs": [
        {
          "output_type": "execute_result",
          "data": {
            "text/plain": [
              "(3647415, 290)"
            ]
          },
          "metadata": {},
          "execution_count": 97
        }
      ]
    },
    {
      "cell_type": "code",
      "metadata": {
        "id": "O_pG6hxJg3Sp"
      },
      "source": [
        "combinedflast=pd.concat([x1,x2],axis=1)"
      ],
      "execution_count": 98,
      "outputs": []
    },
    {
      "cell_type": "code",
      "metadata": {
        "id": "cfKlDAishQbW"
      },
      "source": [
        "xtrain=combinedflast[combinedflast[\"sales\"]!=\"test\"]"
      ],
      "execution_count": 99,
      "outputs": []
    },
    {
      "cell_type": "markdown",
      "metadata": {
        "id": "6BqOCwAaeJkI"
      },
      "source": [
        "**Our training dataset is too large to handle so iam taking 10% random sample of the data**"
      ]
    },
    {
      "cell_type": "code",
      "metadata": {
        "id": "vVr9V047hF-X"
      },
      "source": [
        "xtrain=xtrain.sample(200000)"
      ],
      "execution_count": 100,
      "outputs": []
    },
    {
      "cell_type": "code",
      "metadata": {
        "id": "OHN45ms2hl-g"
      },
      "source": [
        "xtest=combinedflast[combinedflast[\"sales\"]==\"test\"]"
      ],
      "execution_count": 101,
      "outputs": []
    },
    {
      "cell_type": "code",
      "metadata": {
        "id": "9BZCQjd8qA2i"
      },
      "source": [
        "testfinal=xtest.drop(\"sales\",axis=1)"
      ],
      "execution_count": 102,
      "outputs": []
    },
    {
      "cell_type": "code",
      "metadata": {
        "id": "MEUdgnf7rk90"
      },
      "source": [
        "trainfinal=xtrain.drop(\"sales\",axis=1)"
      ],
      "execution_count": 103,
      "outputs": []
    },
    {
      "cell_type": "code",
      "metadata": {
        "colab": {
          "base_uri": "https://localhost:8080/"
        },
        "id": "KTZtQgtZeyPt",
        "outputId": "4f41867e-1a22-4b78-8e4b-4a3718452308"
      },
      "source": [
        "trainfinal.shape"
      ],
      "execution_count": 111,
      "outputs": [
        {
          "output_type": "execute_result",
          "data": {
            "text/plain": [
              "(200000, 291)"
            ]
          },
          "metadata": {},
          "execution_count": 111
        }
      ]
    },
    {
      "cell_type": "code",
      "metadata": {
        "id": "7YuQl52_rtY2"
      },
      "source": [
        "y=xtrain[\"sales\"]"
      ],
      "execution_count": 104,
      "outputs": []
    },
    {
      "cell_type": "code",
      "metadata": {
        "colab": {
          "base_uri": "https://localhost:8080/"
        },
        "id": "SfCZx8JxqHW3",
        "outputId": "e8b03e3f-be05-464a-ad14-1d32c0724746"
      },
      "source": [
        "xtrain.shape"
      ],
      "execution_count": 105,
      "outputs": [
        {
          "output_type": "execute_result",
          "data": {
            "text/plain": [
              "(200000, 292)"
            ]
          },
          "metadata": {},
          "execution_count": 105
        }
      ]
    },
    {
      "cell_type": "code",
      "metadata": {
        "colab": {
          "base_uri": "https://localhost:8080/"
        },
        "id": "Yxmt0PJUqLbi",
        "outputId": "b98c3ba1-00ba-4727-c456-70f0e3822e0d"
      },
      "source": [
        "y.shape"
      ],
      "execution_count": 106,
      "outputs": [
        {
          "output_type": "execute_result",
          "data": {
            "text/plain": [
              "(200000,)"
            ]
          },
          "metadata": {},
          "execution_count": 106
        }
      ]
    },
    {
      "cell_type": "code",
      "metadata": {
        "id": "VeALg3mIqOjx"
      },
      "source": [
        "from sklearn.linear_model import LinearRegression"
      ],
      "execution_count": 107,
      "outputs": []
    },
    {
      "cell_type": "code",
      "metadata": {
        "id": "2sruboBr2tpP"
      },
      "source": [
        "lm=LinearRegression()"
      ],
      "execution_count": 108,
      "outputs": []
    },
    {
      "cell_type": "code",
      "metadata": {
        "id": "885KWjJ_2_hP"
      },
      "source": [
        "lmmodel=lm.fit(trainfinal,y)"
      ],
      "execution_count": 109,
      "outputs": []
    },
    {
      "cell_type": "code",
      "metadata": {
        "id": "ujmuelL1_0fU",
        "colab": {
          "base_uri": "https://localhost:8080/"
        },
        "outputId": "cb22eabf-ae7e-4c4b-ced9-e9ae6b4da37c"
      },
      "source": [
        "lmmodel.score(trainfinal,y)"
      ],
      "execution_count": 110,
      "outputs": [
        {
          "output_type": "execute_result",
          "data": {
            "text/plain": [
              "0.20703329745089982"
            ]
          },
          "metadata": {},
          "execution_count": 110
        }
      ]
    },
    {
      "cell_type": "code",
      "metadata": {
        "id": "5WgK11eQgri4"
      },
      "source": [
        "from sklearn.model_selection import cross_val_score\n"
      ],
      "execution_count": 137,
      "outputs": []
    },
    {
      "cell_type": "code",
      "metadata": {
        "colab": {
          "base_uri": "https://localhost:8080/"
        },
        "id": "UCDqe3TlhG-H",
        "outputId": "a3f9bb75-9a36-4711-bd53-c40a27a490bd"
      },
      "source": [
        "print(cross_val_score(lmmodel,trainfinal,y))"
      ],
      "execution_count": 138,
      "outputs": [
        {
          "output_type": "stream",
          "name": "stdout",
          "text": [
            "[0.18974133 0.21134793 0.20858791 0.21566881 0.20396217]\n"
          ]
        }
      ]
    },
    {
      "cell_type": "code",
      "metadata": {
        "colab": {
          "base_uri": "https://localhost:8080/"
        },
        "id": "GVEAnsCijWyw",
        "outputId": "eed37a2c-8f5a-47cd-8a30-2753a7f772c4"
      },
      "source": [
        "testfinal.shape"
      ],
      "execution_count": 112,
      "outputs": [
        {
          "output_type": "execute_result",
          "data": {
            "text/plain": [
              "(1666028, 291)"
            ]
          },
          "metadata": {},
          "execution_count": 112
        }
      ]
    },
    {
      "cell_type": "markdown",
      "metadata": {
        "id": "uVif4NYWe7aZ"
      },
      "source": [
        "Test data set is large so my machine not able to support that much dataset i am splitting test into smaller parts for predicting"
      ]
    },
    {
      "cell_type": "code",
      "metadata": {
        "id": "JdHOQB40r4BY"
      },
      "source": [
        "test1=testfinal.iloc[0:200000]\n",
        "test2=testfinal.iloc[200000:400001]\n",
        "test3=testfinal.iloc[400001:600001]\n",
        "test4=testfinal.iloc[600001:800001]\n",
        "test6=testfinal.iloc[800001:1000001]\n",
        "test7=testfinal.iloc[1000001:1200001]\n",
        "test8=testfinal.iloc[1200001:1400001]\n",
        "test9=testfinal.iloc[1400001:]"
      ],
      "execution_count": 113,
      "outputs": []
    },
    {
      "cell_type": "code",
      "metadata": {
        "id": "OX2CggiEwHBh",
        "colab": {
          "base_uri": "https://localhost:8080/"
        },
        "outputId": "fc881396-b159-4cf3-9c62-f448868ff76b"
      },
      "source": [
        "test1.shape"
      ],
      "execution_count": 114,
      "outputs": [
        {
          "output_type": "execute_result",
          "data": {
            "text/plain": [
              "(200000, 291)"
            ]
          },
          "metadata": {},
          "execution_count": 114
        }
      ]
    },
    {
      "cell_type": "code",
      "metadata": {
        "id": "2PK1oE9MlJJB"
      },
      "source": [
        "lmpredict=lmmodel.predict(test1)"
      ],
      "execution_count": 115,
      "outputs": []
    },
    {
      "cell_type": "code",
      "metadata": {
        "id": "jKJwhsrymlmU"
      },
      "source": [
        "lmpredict1=pd.DataFrame(lmpredict)"
      ],
      "execution_count": 116,
      "outputs": []
    },
    {
      "cell_type": "code",
      "metadata": {
        "id": "jYVHC7iRlZzk"
      },
      "source": [
        "lmpredict2=pd.DataFrame(lmmodel.predict(test2))"
      ],
      "execution_count": 117,
      "outputs": []
    },
    {
      "cell_type": "code",
      "metadata": {
        "id": "MXLse_O0lZ2u"
      },
      "source": [
        "lmpredict3=pd.DataFrame(lmmodel.predict(test3))"
      ],
      "execution_count": 118,
      "outputs": []
    },
    {
      "cell_type": "code",
      "metadata": {
        "id": "ZmM6pP5DwaB5"
      },
      "source": [
        "lmpredict4=pd.DataFrame(lmmodel.predict(test4))"
      ],
      "execution_count": 119,
      "outputs": []
    },
    {
      "cell_type": "code",
      "metadata": {
        "id": "gtCONDt-wz1v"
      },
      "source": [
        "lmpredict7=pd.DataFrame(lmmodel.predict(test7))"
      ],
      "execution_count": 120,
      "outputs": []
    },
    {
      "cell_type": "code",
      "metadata": {
        "id": "qMaqFPWCkfqs"
      },
      "source": [
        "lmpredict6=pd.DataFrame(lmmodel.predict(test6))"
      ],
      "execution_count": 121,
      "outputs": []
    },
    {
      "cell_type": "code",
      "metadata": {
        "id": "1qOKNF8xkh9i"
      },
      "source": [
        "lmpredict9=pd.DataFrame(lmmodel.predict(test9))"
      ],
      "execution_count": 122,
      "outputs": []
    },
    {
      "cell_type": "code",
      "metadata": {
        "id": "WehhOjzsklXJ"
      },
      "source": [
        "lmpredict8=pd.DataFrame(lmmodel.predict(test8))"
      ],
      "execution_count": 123,
      "outputs": []
    },
    {
      "cell_type": "code",
      "metadata": {
        "id": "au7FmxzrmhJ1"
      },
      "source": [
        "predict=pd.concat([lmpredict1,lmpredict2,lmpredict3,lmpredict4,lmpredict6,lmpredict7,lmpredict8,lmpredict9])"
      ],
      "execution_count": 124,
      "outputs": []
    },
    {
      "cell_type": "code",
      "metadata": {
        "colab": {
          "base_uri": "https://localhost:8080/"
        },
        "id": "R2oa53pjofEC",
        "outputId": "1cc752ed-1666-4821-ba80-ce2e01fca170"
      },
      "source": [
        "testfinal.shape"
      ],
      "execution_count": 125,
      "outputs": [
        {
          "output_type": "execute_result",
          "data": {
            "text/plain": [
              "(1666028, 291)"
            ]
          },
          "metadata": {},
          "execution_count": 125
        }
      ]
    },
    {
      "cell_type": "code",
      "metadata": {
        "colab": {
          "base_uri": "https://localhost:8080/"
        },
        "id": "gB15boidoYnz",
        "outputId": "46c4e514-ff14-439c-db07-b6214c5a0847"
      },
      "source": [
        "predict.shape"
      ],
      "execution_count": 126,
      "outputs": [
        {
          "output_type": "execute_result",
          "data": {
            "text/plain": [
              "(1666028, 1)"
            ]
          },
          "metadata": {},
          "execution_count": 126
        }
      ]
    },
    {
      "cell_type": "code",
      "metadata": {
        "id": "bkmJCAWQr0GK"
      },
      "source": [
        "predict=predict.reset_index()"
      ],
      "execution_count": 127,
      "outputs": []
    },
    {
      "cell_type": "code",
      "metadata": {
        "id": "VGh7pDuZopH6"
      },
      "source": [
        "sample=pd.read_csv(\"/content/drive/MyDrive/sample_final.csv\")"
      ],
      "execution_count": 128,
      "outputs": []
    },
    {
      "cell_type": "code",
      "metadata": {
        "id": "Rs2D7KDLrKYs",
        "colab": {
          "base_uri": "https://localhost:8080/"
        },
        "outputId": "f72c0215-63a4-46f3-f5dc-43cc369efe92"
      },
      "source": [
        "sample.shape"
      ],
      "execution_count": 129,
      "outputs": [
        {
          "output_type": "execute_result",
          "data": {
            "text/plain": [
              "(1666028, 2)"
            ]
          },
          "metadata": {},
          "execution_count": 129
        }
      ]
    },
    {
      "cell_type": "code",
      "metadata": {
        "id": "ZEx7FiKYrWsD"
      },
      "source": [
        "sample[\"sales\"]=predict[0]"
      ],
      "execution_count": 130,
      "outputs": []
    },
    {
      "cell_type": "code",
      "metadata": {
        "id": "LuBTihserdng",
        "colab": {
          "base_uri": "https://localhost:8080/",
          "height": 204
        },
        "outputId": "3a01d027-2838-461d-f117-c3288d00f396"
      },
      "source": [
        "sample.head()"
      ],
      "execution_count": 131,
      "outputs": [
        {
          "output_type": "execute_result",
          "data": {
            "text/html": [
              "<div>\n",
              "<style scoped>\n",
              "    .dataframe tbody tr th:only-of-type {\n",
              "        vertical-align: middle;\n",
              "    }\n",
              "\n",
              "    .dataframe tbody tr th {\n",
              "        vertical-align: top;\n",
              "    }\n",
              "\n",
              "    .dataframe thead th {\n",
              "        text-align: right;\n",
              "    }\n",
              "</style>\n",
              "<table border=\"1\" class=\"dataframe\">\n",
              "  <thead>\n",
              "    <tr style=\"text-align: right;\">\n",
              "      <th></th>\n",
              "      <th>ID</th>\n",
              "      <th>sales</th>\n",
              "    </tr>\n",
              "  </thead>\n",
              "  <tbody>\n",
              "    <tr>\n",
              "      <th>0</th>\n",
              "      <td>RR1666030</td>\n",
              "      <td>5.901767</td>\n",
              "    </tr>\n",
              "    <tr>\n",
              "      <th>1</th>\n",
              "      <td>RR1666031</td>\n",
              "      <td>5.901767</td>\n",
              "    </tr>\n",
              "    <tr>\n",
              "      <th>2</th>\n",
              "      <td>RR1666032</td>\n",
              "      <td>5.901767</td>\n",
              "    </tr>\n",
              "    <tr>\n",
              "      <th>3</th>\n",
              "      <td>RR1666033</td>\n",
              "      <td>5.901767</td>\n",
              "    </tr>\n",
              "    <tr>\n",
              "      <th>4</th>\n",
              "      <td>RR1666034</td>\n",
              "      <td>5.901767</td>\n",
              "    </tr>\n",
              "  </tbody>\n",
              "</table>\n",
              "</div>"
            ],
            "text/plain": [
              "          ID     sales\n",
              "0  RR1666030  5.901767\n",
              "1  RR1666031  5.901767\n",
              "2  RR1666032  5.901767\n",
              "3  RR1666033  5.901767\n",
              "4  RR1666034  5.901767"
            ]
          },
          "metadata": {},
          "execution_count": 131
        }
      ]
    },
    {
      "cell_type": "code",
      "metadata": {
        "id": "L61dCqmcgIFe"
      },
      "source": [
        "sample[\"sales\"]=sample[\"sales\"].abs()"
      ],
      "execution_count": 134,
      "outputs": []
    },
    {
      "cell_type": "code",
      "metadata": {
        "id": "wdOuNkQEr_Hq"
      },
      "source": [
        "sample.to_csv(\"sampleresult.csv\",index=False)"
      ],
      "execution_count": 136,
      "outputs": []
    },
    {
      "cell_type": "code",
      "metadata": {
        "id": "2vJZd5LDUTBX"
      },
      "source": [
        ""
      ],
      "execution_count": null,
      "outputs": []
    }
  ]
}